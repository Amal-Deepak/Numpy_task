{
  "nbformat": 4,
  "nbformat_minor": 0,
  "metadata": {
    "colab": {
      "name": "Numpy_Tasks.ipynb",
      "provenance": [],
      "collapsed_sections": []
    },
    "kernelspec": {
      "name": "python3",
      "display_name": "Python 3"
    },
    "language_info": {
      "name": "python"
    }
  },
  "cells": [
    {
      "cell_type": "markdown",
      "source": [
        ""
      ],
      "metadata": {
        "id": "Seo8bgdThmSJ"
      }
    },
    {
      "cell_type": "markdown",
      "source": [
        ""
      ],
      "metadata": {
        "id": "BryYEtqUhoYQ"
      }
    },
    {
      "cell_type": "code",
      "source": [
        "import numpy as np"
      ],
      "metadata": {
        "id": "t1FiBhQo06I6"
      },
      "execution_count": null,
      "outputs": []
    },
    {
      "cell_type": "markdown",
      "source": [
        "1. Import the numpy package under the name np (★☆☆)\n",
        "\n",
        "  (hint: import … as …)"
      ],
      "metadata": {
        "id": "907lvFnYh1Nw"
      }
    },
    {
      "cell_type": "code",
      "source": [
        "import numpy as np"
      ],
      "metadata": {
        "id": "Cs4HpWRYhuvj"
      },
      "execution_count": null,
      "outputs": []
    },
    {
      "cell_type": "markdown",
      "metadata": {
        "id": "FDouqF7egaE9"
      },
      "source": [
        "#### 2. Print the numpy version and the configuration (★☆☆) \n",
        "(**hint**: np.\\_\\_version\\_\\_, np.show\\_config)"
      ]
    },
    {
      "cell_type": "code",
      "source": [
        "print(np.__version__)\n",
        "np.show_config()"
      ],
      "metadata": {
        "colab": {
          "base_uri": "https://localhost:8080/"
        },
        "id": "3UONoNWBjoKF",
        "outputId": "58453e42-40ab-45a1-ef50-0479429b96ab"
      },
      "execution_count": null,
      "outputs": [
        {
          "output_type": "stream",
          "name": "stdout",
          "text": [
            "1.21.6\n",
            "blas_mkl_info:\n",
            "  NOT AVAILABLE\n",
            "blis_info:\n",
            "  NOT AVAILABLE\n",
            "openblas_info:\n",
            "    libraries = ['openblas', 'openblas']\n",
            "    library_dirs = ['/usr/local/lib']\n",
            "    language = c\n",
            "    define_macros = [('HAVE_CBLAS', None)]\n",
            "    runtime_library_dirs = ['/usr/local/lib']\n",
            "blas_opt_info:\n",
            "    libraries = ['openblas', 'openblas']\n",
            "    library_dirs = ['/usr/local/lib']\n",
            "    language = c\n",
            "    define_macros = [('HAVE_CBLAS', None)]\n",
            "    runtime_library_dirs = ['/usr/local/lib']\n",
            "lapack_mkl_info:\n",
            "  NOT AVAILABLE\n",
            "openblas_lapack_info:\n",
            "    libraries = ['openblas', 'openblas']\n",
            "    library_dirs = ['/usr/local/lib']\n",
            "    language = c\n",
            "    define_macros = [('HAVE_CBLAS', None)]\n",
            "    runtime_library_dirs = ['/usr/local/lib']\n",
            "lapack_opt_info:\n",
            "    libraries = ['openblas', 'openblas']\n",
            "    library_dirs = ['/usr/local/lib']\n",
            "    language = c\n",
            "    define_macros = [('HAVE_CBLAS', None)]\n",
            "    runtime_library_dirs = ['/usr/local/lib']\n",
            "Supported SIMD extensions in this NumPy install:\n",
            "    baseline = SSE,SSE2,SSE3\n",
            "    found = SSSE3,SSE41,POPCNT,SSE42,AVX,F16C,FMA3,AVX2\n",
            "    not found = AVX512F,AVX512CD,AVX512_KNL,AVX512_KNM,AVX512_SKX,AVX512_CLX,AVX512_CNL,AVX512_ICL\n"
          ]
        }
      ]
    },
    {
      "cell_type": "markdown",
      "metadata": {
        "id": "f-2RPsKGgaE-"
      },
      "source": [
        "#### 3. Create a null vector of size 10 (★☆☆) \n",
        "(**hint**: np.zeros)"
      ]
    },
    {
      "cell_type": "code",
      "source": [
        "Z = np.zeros(10)\n",
        "print(Z)"
      ],
      "metadata": {
        "colab": {
          "base_uri": "https://localhost:8080/"
        },
        "id": "3azy_sMIjwf2",
        "outputId": "2f715e05-b8fc-49af-eb8d-649b3db672b7"
      },
      "execution_count": null,
      "outputs": [
        {
          "output_type": "stream",
          "name": "stdout",
          "text": [
            "[0. 0. 0. 0. 0. 0. 0. 0. 0. 0.]\n"
          ]
        }
      ]
    },
    {
      "cell_type": "markdown",
      "metadata": {
        "id": "i2Aguj9ygaE_"
      },
      "source": [
        "#### 4.  How to find the memory size of any array (★☆☆) \n",
        "(**hint**: size, itemsize)"
      ]
    },
    {
      "cell_type": "code",
      "source": [
        "Z = np.zeros((10,10))\n",
        "print(\"%d bytes\" % (Z.size * Z.itemsize))"
      ],
      "metadata": {
        "colab": {
          "base_uri": "https://localhost:8080/"
        },
        "id": "b7QAl1DQlSwc",
        "outputId": "d04b9c05-6501-4f5d-8036-2cab17d5a943"
      },
      "execution_count": null,
      "outputs": [
        {
          "output_type": "stream",
          "name": "stdout",
          "text": [
            "800 bytes\n"
          ]
        }
      ]
    },
    {
      "cell_type": "markdown",
      "metadata": {
        "id": "9u3y7zqigaFB"
      },
      "source": [
        "#### 5.  How to get the documentation of the numpy add function from the command line? (★☆☆) \n",
        "(**hint**: np.info)"
      ]
    },
    {
      "cell_type": "code",
      "source": [
        "\"import numpy;numpy.info(numpy.add)\""
      ],
      "metadata": {
        "colab": {
          "base_uri": "https://localhost:8080/",
          "height": 35
        },
        "id": "ILGR6x-1lcCx",
        "outputId": "6792547b-70ac-48ea-cb61-d71f8a912522"
      },
      "execution_count": 106,
      "outputs": [
        {
          "output_type": "execute_result",
          "data": {
            "text/plain": [
              "'import numpy;numpy.info(numpy.add)'"
            ],
            "application/vnd.google.colaboratory.intrinsic+json": {
              "type": "string"
            }
          },
          "metadata": {},
          "execution_count": 106
        }
      ]
    },
    {
      "cell_type": "markdown",
      "metadata": {
        "id": "EDP61hP2gaFC"
      },
      "source": [
        "#### 6.  Create a null vector of size 10 but the fifth value which is 1 (★☆☆) \n",
        "(**hint**: array\\[4\\])"
      ]
    },
    {
      "cell_type": "code",
      "source": [
        "Z = np.zeros(10)\n",
        "Z[4] = 1\n",
        "print(Z)"
      ],
      "metadata": {
        "colab": {
          "base_uri": "https://localhost:8080/"
        },
        "id": "Im_B5qehnq7w",
        "outputId": "3ba24b79-f860-4f10-ba8e-4bf4d60dc323"
      },
      "execution_count": null,
      "outputs": [
        {
          "output_type": "stream",
          "name": "stdout",
          "text": [
            "[0. 0. 0. 0. 1. 0. 0. 0. 0. 0.]\n"
          ]
        }
      ]
    },
    {
      "cell_type": "markdown",
      "metadata": {
        "id": "nEdxV0VggaFD"
      },
      "source": [
        "#### 7.  Create a vector with values ranging from 10 to 49 (★☆☆) \n",
        "(**hint**: np.arange)"
      ]
    },
    {
      "cell_type": "code",
      "source": [
        "np.arange(10,50)"
      ],
      "metadata": {
        "colab": {
          "base_uri": "https://localhost:8080/"
        },
        "id": "FQy2HFjrn47e",
        "outputId": "01497edd-c8cc-462e-d712-762cbe40081c"
      },
      "execution_count": null,
      "outputs": [
        {
          "output_type": "execute_result",
          "data": {
            "text/plain": [
              "array([10, 11, 12, 13, 14, 15, 16, 17, 18, 19, 20, 21, 22, 23, 24, 25, 26,\n",
              "       27, 28, 29, 30, 31, 32, 33, 34, 35, 36, 37, 38, 39, 40, 41, 42, 43,\n",
              "       44, 45, 46, 47, 48, 49])"
            ]
          },
          "metadata": {},
          "execution_count": 22
        }
      ]
    },
    {
      "cell_type": "markdown",
      "metadata": {
        "id": "ScnndHuBgaFE"
      },
      "source": [
        "#### 8.  Reverse a vector (first element becomes last) (★☆☆) \n",
        "(**hint**: array\\[::-1\\])"
      ]
    },
    {
      "cell_type": "code",
      "execution_count": null,
      "metadata": {
        "id": "uVhKKiS6gaFE",
        "colab": {
          "base_uri": "https://localhost:8080/"
        },
        "outputId": "1aa75457-d81f-433d-9f64-ad1b3aff0c6e"
      },
      "outputs": [
        {
          "output_type": "stream",
          "name": "stdout",
          "text": [
            "[99 98 97 96 95 94 93 92 91 90 89 88 87 86 85 84 83 82 81 80 79 78 77 76\n",
            " 75 74 73 72 71 70 69 68 67 66 65 64 63 62 61 60 59 58 57 56 55 54 53 52\n",
            " 51 50 49 48 47 46 45 44 43 42 41 40 39 38 37 36 35 34 33 32 31 30 29 28\n",
            " 27 26 25 24 23 22 21 20 19 18 17 16 15 14 13 12 11 10  9  8  7  6  5  4\n",
            "  3  2  1  0]\n"
          ]
        }
      ],
      "source": [
        "X = np.arange(100)\n",
        "X = X[::-1]\n",
        "print(X)"
      ]
    },
    {
      "cell_type": "markdown",
      "metadata": {
        "id": "71luvNQEgaFE"
      },
      "source": [
        "#### 9.  Create a 3x3 matrix with values ranging from 0 to 8 (★☆☆) \n",
        "(**hint**: reshape)"
      ]
    },
    {
      "cell_type": "code",
      "source": [
        "X = np.arange(9).reshape(3,3)\n",
        "print(X)"
      ],
      "metadata": {
        "colab": {
          "base_uri": "https://localhost:8080/"
        },
        "id": "SQUrkWnmoXFa",
        "outputId": "b1b898f3-138d-4ade-9c2f-c0d7b869ce01"
      },
      "execution_count": null,
      "outputs": [
        {
          "output_type": "stream",
          "name": "stdout",
          "text": [
            "[[0 1 2]\n",
            " [3 4 5]\n",
            " [6 7 8]]\n"
          ]
        }
      ]
    },
    {
      "cell_type": "markdown",
      "metadata": {
        "id": "dMXA0Yn4gaFF"
      },
      "source": [
        "#### 10. Find indices of non-zero elements from \\[1,2,0,0,4,0\\] (★☆☆) \n",
        "(**hint**: np.nonzero)"
      ]
    },
    {
      "cell_type": "code",
      "execution_count": null,
      "metadata": {
        "id": "MeNfCKYogaFF",
        "colab": {
          "base_uri": "https://localhost:8080/"
        },
        "outputId": "397f62ea-4b95-46a3-f410-b6d11cd73f5f"
      },
      "outputs": [
        {
          "output_type": "stream",
          "name": "stdout",
          "text": [
            "(array([0, 1, 4]),)\n"
          ]
        }
      ],
      "source": [
        "nz = np.nonzero([1,2,0,0,4,0])\n",
        "print(nz)"
      ]
    },
    {
      "cell_type": "markdown",
      "metadata": {
        "id": "qdPzHugtgaFF"
      },
      "source": [
        "#### 11. Create a 3x3 identity matrix (★☆☆) \n",
        "(**hint**: np.eye)"
      ]
    },
    {
      "cell_type": "code",
      "execution_count": null,
      "metadata": {
        "id": "QScaIIfJgaFG",
        "colab": {
          "base_uri": "https://localhost:8080/"
        },
        "outputId": "02e09d73-2c62-44ba-b2c8-6a3052d68be4"
      },
      "outputs": [
        {
          "output_type": "stream",
          "name": "stdout",
          "text": [
            "[[1. 0. 0.]\n",
            " [0. 1. 0.]\n",
            " [0. 0. 1.]]\n"
          ]
        }
      ],
      "source": [
        "X = np.eye(3)\n",
        "print(X)"
      ]
    },
    {
      "cell_type": "markdown",
      "metadata": {
        "id": "BmQ96-I0gaFG"
      },
      "source": [
        "#### 12. Create a 3x3x3 array with random values (★☆☆) \n",
        "(**hint**: np.random.random)"
      ]
    },
    {
      "cell_type": "code",
      "execution_count": null,
      "metadata": {
        "collapsed": true,
        "id": "1N81Bs_mgaFG"
      },
      "outputs": [],
      "source": [
        "Y = np.random.random((3*3*3))"
      ]
    },
    {
      "cell_type": "markdown",
      "metadata": {
        "id": "bCutPIJsgaFG"
      },
      "source": [
        "#### 13. Create a 10x10 array with random values and find the minimum and maximum values (★☆☆) \n",
        "(**hint**: min, max)"
      ]
    },
    {
      "cell_type": "code",
      "execution_count": null,
      "metadata": {
        "id": "w_-u8tBJgaFG",
        "colab": {
          "base_uri": "https://localhost:8080/"
        },
        "outputId": "e8cef9ce-c8ba-487b-b54e-ffdf5eddde55"
      },
      "outputs": [
        {
          "output_type": "stream",
          "name": "stdout",
          "text": [
            "0.00541349472108088 0.9972262624638782\n"
          ]
        }
      ],
      "source": [
        "X = np.random.random((10,10))\n",
        "Xmin, Xmax = X.min(), X.max()\n",
        "print(Xmin, Xmax)"
      ]
    },
    {
      "cell_type": "markdown",
      "metadata": {
        "id": "l-_ez-rNgaFG"
      },
      "source": [
        "#### 14. Create a random vector of size 30 and find the mean value (★☆☆) \n",
        "(**hint**: mean)"
      ]
    },
    {
      "cell_type": "code",
      "execution_count": null,
      "metadata": {
        "id": "XxJAXS4pgaFH",
        "colab": {
          "base_uri": "https://localhost:8080/"
        },
        "outputId": "882d1c33-797b-4f6d-f885-ed93e1abc986"
      },
      "outputs": [
        {
          "output_type": "stream",
          "name": "stdout",
          "text": [
            "0.5096931073132646\n"
          ]
        }
      ],
      "source": [
        "Y = np.random.random(30)\n",
        "m = Y.mean()\n",
        "print(m)"
      ]
    },
    {
      "cell_type": "markdown",
      "metadata": {
        "id": "VPryevTxgaFH"
      },
      "source": [
        "#### 15. Create a 2d array with 1 on the border and 0 inside (★☆☆) \n",
        "(**hint**: array\\[1:-1, 1:-1\\])"
      ]
    },
    {
      "cell_type": "code",
      "execution_count": null,
      "metadata": {
        "id": "nbQJsGxZgaFH",
        "colab": {
          "base_uri": "https://localhost:8080/"
        },
        "outputId": "1399ba1b-0e71-4797-a912-58a3a877a4bb"
      },
      "outputs": [
        {
          "output_type": "stream",
          "name": "stdout",
          "text": [
            "[[1. 1. 1. 1. 1. 1. 1. 1. 1. 1.]\n",
            " [1. 0. 0. 0. 0. 0. 0. 0. 0. 1.]\n",
            " [1. 0. 0. 0. 0. 0. 0. 0. 0. 1.]\n",
            " [1. 0. 0. 0. 0. 0. 0. 0. 0. 1.]\n",
            " [1. 0. 0. 0. 0. 0. 0. 0. 0. 1.]\n",
            " [1. 0. 0. 0. 0. 0. 0. 0. 0. 1.]\n",
            " [1. 0. 0. 0. 0. 0. 0. 0. 0. 1.]\n",
            " [1. 0. 0. 0. 0. 0. 0. 0. 0. 1.]\n",
            " [1. 0. 0. 0. 0. 0. 0. 0. 0. 1.]\n",
            " [1. 1. 1. 1. 1. 1. 1. 1. 1. 1.]]\n"
          ]
        }
      ],
      "source": [
        "X = np.ones((10,10))\n",
        "X[1:-1,1:-1] = 0\n",
        "print(X)"
      ]
    },
    {
      "cell_type": "markdown",
      "metadata": {
        "id": "uwc1hLcIgaFH"
      },
      "source": [
        "#### 16. How to add a border (filled with 0's) around an existing array? (★☆☆) \n",
        "(**hint**: np.pad)"
      ]
    },
    {
      "cell_type": "code",
      "execution_count": null,
      "metadata": {
        "id": "qexfRscDgaFH",
        "colab": {
          "base_uri": "https://localhost:8080/"
        },
        "outputId": "828b2377-d9d6-4c4b-8d92-6f3767e7746b"
      },
      "outputs": [
        {
          "output_type": "stream",
          "name": "stdout",
          "text": [
            "[[0. 0. 0. 0. 0.]\n",
            " [0. 1. 1. 1. 0.]\n",
            " [0. 1. 1. 1. 0.]\n",
            " [0. 1. 1. 1. 0.]\n",
            " [0. 0. 0. 0. 0.]]\n"
          ]
        }
      ],
      "source": [
        "Z = np.ones((3,3))\n",
        "Z = np.pad(Z, pad_width=1, mode='constant', constant_values=0)\n",
        "print(Z)"
      ]
    },
    {
      "cell_type": "markdown",
      "metadata": {
        "id": "EmvnMjXngaFH"
      },
      "source": [
        "#### 17. What is the result of the following expression? (★☆☆) \n",
        "(**hint**: NaN = not a number, inf = infinity)"
      ]
    },
    {
      "cell_type": "markdown",
      "metadata": {
        "id": "BCyqv8LcgaFH"
      },
      "source": [
        "```python\n",
        "0 * np.nan\n",
        "np.nan == np.nan\n",
        "np.inf > np.nan\n",
        "np.nan - np.nan\n",
        "0.3 == 3 * 0.1\n",
        "```"
      ]
    },
    {
      "cell_type": "code",
      "source": [
        "print(0 * np.nan)\n",
        "print(np.nan == np.nan)\n",
        "print(np.inf > np.nan)\n",
        "print(np.nan - np.nan)\n",
        "print(0.3 == 3 * 0.1)"
      ],
      "metadata": {
        "colab": {
          "base_uri": "https://localhost:8080/"
        },
        "id": "hi3wk8tJtc3V",
        "outputId": "5229dced-e891-4806-ba57-b3136ef29f9e"
      },
      "execution_count": null,
      "outputs": [
        {
          "output_type": "stream",
          "name": "stdout",
          "text": [
            "nan\n",
            "False\n",
            "False\n",
            "nan\n",
            "False\n"
          ]
        }
      ]
    },
    {
      "cell_type": "markdown",
      "metadata": {
        "id": "V-hjBPA5gaFI"
      },
      "source": [
        "#### 18. Create a 5x5 matrix with values 1,2,3,4 just below the diagonal (★☆☆) \n",
        "(**hint**: np.diag)"
      ]
    },
    {
      "cell_type": "code",
      "execution_count": null,
      "metadata": {
        "colab": {
          "base_uri": "https://localhost:8080/"
        },
        "id": "w4ojR6ZVtlHH",
        "outputId": "57663d68-20a8-41c0-a797-7f9571bd8476"
      },
      "outputs": [
        {
          "output_type": "stream",
          "name": "stdout",
          "text": [
            "[[0 0 0 0 0]\n",
            " [1 0 0 0 0]\n",
            " [0 2 0 0 0]\n",
            " [0 0 3 0 0]\n",
            " [0 0 0 4 0]]\n"
          ]
        }
      ],
      "source": [
        "X = np.diag(1+np.arange(4),k=-1) #k is the diagonal\n",
        "print(X)"
      ]
    },
    {
      "cell_type": "markdown",
      "metadata": {
        "id": "ukEfyeWFgaFI"
      },
      "source": [
        "#### 19. Create a 8x8 matrix and fill it with a checkerboard pattern (★☆☆) \n",
        "(**hint**: array\\[::2\\])"
      ]
    },
    {
      "cell_type": "code",
      "execution_count": null,
      "metadata": {
        "id": "t1Mngf0igaFI",
        "colab": {
          "base_uri": "https://localhost:8080/"
        },
        "outputId": "78187e01-8a15-4a49-c4d2-48dd0afbe6e9"
      },
      "outputs": [
        {
          "output_type": "stream",
          "name": "stdout",
          "text": [
            "[[0 1 0 1 0 1 0 1]\n",
            " [1 0 1 0 1 0 1 0]\n",
            " [0 1 0 1 0 1 0 1]\n",
            " [1 0 1 0 1 0 1 0]\n",
            " [0 1 0 1 0 1 0 1]\n",
            " [1 0 1 0 1 0 1 0]\n",
            " [0 1 0 1 0 1 0 1]\n",
            " [1 0 1 0 1 0 1 0]]\n"
          ]
        }
      ],
      "source": [
        "Z = np.zeros((8,8),dtype=int)\n",
        "Z[1::2,::2] = 1\n",
        "Z[::2,1::2] = 1\n",
        "print(Z)"
      ]
    },
    {
      "cell_type": "markdown",
      "metadata": {
        "id": "M9gkSRg1gaFI"
      },
      "source": [
        "#### 20. Consider a (6,7,8) shape array, what is the index (x,y,z) of the 100th element? \n",
        "(**hint**: np.unravel_index)"
      ]
    },
    {
      "cell_type": "code",
      "execution_count": null,
      "metadata": {
        "id": "dyrRWiYLgaFJ",
        "colab": {
          "base_uri": "https://localhost:8080/"
        },
        "outputId": "d370ca02-8923-4603-bd52-c4feb640df47"
      },
      "outputs": [
        {
          "output_type": "stream",
          "name": "stdout",
          "text": [
            "(1, 5, 4)\n"
          ]
        }
      ],
      "source": [
        "print(np.unravel_index(100,(6,7,8)))"
      ]
    },
    {
      "cell_type": "markdown",
      "metadata": {
        "id": "pXOBs13BgaFJ"
      },
      "source": [
        "#### 21. Create a checkerboard 8x8 matrix using the tile function (★☆☆) \n",
        "(**hint**: np.tile)"
      ]
    },
    {
      "cell_type": "code",
      "execution_count": null,
      "metadata": {
        "id": "y5R6PRO5gaFJ",
        "colab": {
          "base_uri": "https://localhost:8080/"
        },
        "outputId": "3b718e52-553e-4d74-9afa-627bf268d96f"
      },
      "outputs": [
        {
          "output_type": "stream",
          "name": "stdout",
          "text": [
            "[[0 1 0 1 0 1 0 1]\n",
            " [1 0 1 0 1 0 1 0]\n",
            " [0 1 0 1 0 1 0 1]\n",
            " [1 0 1 0 1 0 1 0]\n",
            " [0 1 0 1 0 1 0 1]\n",
            " [1 0 1 0 1 0 1 0]\n",
            " [0 1 0 1 0 1 0 1]\n",
            " [1 0 1 0 1 0 1 0]]\n"
          ]
        }
      ],
      "source": [
        "X = np.tile( np.array([[0,1],[1,0]]), (4,4))\n",
        "print(X)"
      ]
    },
    {
      "cell_type": "markdown",
      "metadata": {
        "id": "1XbRgOCtgaFJ"
      },
      "source": [
        "#### 22. Normalize a 5x5 random matrix (★☆☆) \n",
        "(**hint**: (x - min) / (max - min))"
      ]
    },
    {
      "cell_type": "code",
      "execution_count": null,
      "metadata": {
        "id": "824cZRL6gaFJ",
        "colab": {
          "base_uri": "https://localhost:8080/"
        },
        "outputId": "98eb9c59-2421-4087-f688-7b7d7a0c2487"
      },
      "outputs": [
        {
          "output_type": "stream",
          "name": "stdout",
          "text": [
            "[[0.43844911 0.26209149 0.42129222 0.4793989  0.42118984]\n",
            " [0.3285747  0.40326268 0.62815522 0.59746347 0.6620324 ]\n",
            " [0.69751665 0.         0.02067737 0.3069953  0.40668813]\n",
            " [0.1653828  0.46950085 0.36074512 0.01429626 0.46348231]\n",
            " [1.         0.07971778 0.56234194 0.95111305 0.21399204]]\n"
          ]
        }
      ],
      "source": [
        "Z = np.random.random((5,5))\n",
        "Zmax, Zmin = Z.max(), Z.min()\n",
        "Z = (Z - Zmin)/(Zmax - Zmin)\n",
        "print(Z)"
      ]
    },
    {
      "cell_type": "markdown",
      "metadata": {
        "id": "OTmv_mO1gaFJ"
      },
      "source": [
        "#### 23. Create a custom dtype that describes a color as four unsigned bytes (RGBA) (★☆☆) \n",
        "(**hint**: np.dtype)"
      ]
    },
    {
      "cell_type": "code",
      "execution_count": null,
      "metadata": {
        "collapsed": true,
        "id": "-sMZ5k1GgaFJ",
        "colab": {
          "base_uri": "https://localhost:8080/"
        },
        "outputId": "2db056d2-3fad-4ece-e00d-2b5d20673509"
      },
      "outputs": [
        {
          "output_type": "stream",
          "name": "stderr",
          "text": [
            "/usr/local/lib/python3.7/dist-packages/ipykernel_launcher.py:4: FutureWarning: Passing (type, 1) or '1type' as a synonym of type is deprecated; in a future version of numpy, it will be understood as (type, (1,)) / '(1,)type'.\n",
            "  after removing the cwd from sys.path.\n"
          ]
        }
      ],
      "source": [
        "color = np.dtype([(\"r\", np.ubyte, 1),\n",
        "                  (\"g\", np.ubyte, 1),\n",
        "                  (\"b\", np.ubyte, 1),\n",
        "                  (\"a\", np.ubyte, 1)])"
      ]
    },
    {
      "cell_type": "markdown",
      "metadata": {
        "id": "b1qDa4j1gaFK"
      },
      "source": [
        "#### 24. Multiply a 5x3 matrix by a 3x2 matrix (real matrix product) (★☆☆) \n",
        "(**hint**: np.dot | @)"
      ]
    },
    {
      "cell_type": "code",
      "execution_count": null,
      "metadata": {
        "id": "rJ3PghcLgaFK",
        "colab": {
          "base_uri": "https://localhost:8080/"
        },
        "outputId": "b59506ed-2719-493f-d7d0-07cb3ee97182"
      },
      "outputs": [
        {
          "output_type": "stream",
          "name": "stdout",
          "text": [
            "[[3. 3.]\n",
            " [3. 3.]\n",
            " [3. 3.]\n",
            " [3. 3.]\n",
            " [3. 3.]]\n",
            "[[3. 3.]\n",
            " [3. 3.]\n",
            " [3. 3.]\n",
            " [3. 3.]\n",
            " [3. 3.]]\n"
          ]
        }
      ],
      "source": [
        "Z = np.ones((5,3)) @ np.ones((3,2))\n",
        "print(Z)\n",
        "\n",
        "Z = np.dot(np.ones((5,3)), np.ones((3,2)))\n",
        "print(Z)"
      ]
    },
    {
      "cell_type": "markdown",
      "metadata": {
        "id": "1SU-YVjSgaFK"
      },
      "source": [
        "#### 25. Given a 1D array, negate all elements which are between 3 and 8, in place. (★☆☆) \n",
        "(**hint**: >, <=)"
      ]
    },
    {
      "cell_type": "code",
      "execution_count": null,
      "metadata": {
        "id": "sH0KrO-GgaFK",
        "colab": {
          "base_uri": "https://localhost:8080/"
        },
        "outputId": "41dbc2af-1d83-4292-d874-2ab811121967"
      },
      "outputs": [
        {
          "output_type": "stream",
          "name": "stdout",
          "text": [
            "[ 0  1  2  3 -4 -5 -6 -7 -8  9 10]\n"
          ]
        }
      ],
      "source": [
        "X = np.arange(11)\n",
        "X[(3 < X) & (X <= 8)] *= -1\n",
        "print(X)"
      ]
    },
    {
      "cell_type": "markdown",
      "metadata": {
        "id": "5-XDRScZgaFK"
      },
      "source": [
        "#### 26. What is the output of the following script? (★☆☆) \n",
        "(**hint**: np.sum)"
      ]
    },
    {
      "cell_type": "markdown",
      "metadata": {
        "id": "_2-GQc0UgaFK"
      },
      "source": [
        "```python\n",
        "# Author: Jake VanderPlas\n",
        "\n",
        "print(sum(range(5),-1))\n",
        "from numpy import *\n",
        "print(sum(range(5),-1))\n",
        "```"
      ]
    },
    {
      "cell_type": "code",
      "source": [
        "print(sum(range(5),-1))\n",
        "from numpy import *\n",
        "print(sum(range(5),-1))"
      ],
      "metadata": {
        "colab": {
          "base_uri": "https://localhost:8080/"
        },
        "id": "ESiyzAvLxk5a",
        "outputId": "8efb6551-5643-4470-fcdb-00d61b44a753"
      },
      "execution_count": null,
      "outputs": [
        {
          "output_type": "stream",
          "name": "stdout",
          "text": [
            "9\n",
            "10\n"
          ]
        }
      ]
    },
    {
      "cell_type": "markdown",
      "metadata": {
        "id": "Hv9OcHT_gaFK"
      },
      "source": [
        "#### 27. Consider an integer vector Z, which of these expressions are legal? (★☆☆)"
      ]
    },
    {
      "cell_type": "markdown",
      "metadata": {
        "id": "8EOABqTCgaFL"
      },
      "source": [
        "```python\n",
        "Z**Z\n",
        "2 << Z >> 2\n",
        "Z <- Z\n",
        "1j*Z\n",
        "Z/1/1\n",
        "Z<Z>Z\n",
        "```"
      ]
    },
    {
      "cell_type": "code",
      "source": [
        "Z = np.arange(1,2)\n",
        "\n",
        "Z**Z\n",
        "2<< Z >> 2\n",
        "Z <- Z\n",
        "1j*Z\n",
        "Z/1/1\n",
        "Z<Z>Z\n"
      ],
      "metadata": {
        "colab": {
          "base_uri": "https://localhost:8080/"
        },
        "id": "n8FG4I19AWEp",
        "outputId": "09e5c2b3-0789-4198-eb40-89f9bc093d5a"
      },
      "execution_count": 66,
      "outputs": [
        {
          "output_type": "execute_result",
          "data": {
            "text/plain": [
              "array([False])"
            ]
          },
          "metadata": {},
          "execution_count": 66
        }
      ]
    },
    {
      "cell_type": "markdown",
      "metadata": {
        "id": "r6qRm8D5gaFL"
      },
      "source": [
        "#### 28. What are the result of the following expressions?"
      ]
    },
    {
      "cell_type": "markdown",
      "metadata": {
        "id": "Lk9n-TBOgaFL"
      },
      "source": [
        "```python\n",
        "np.array(0) / np.array(0)\n",
        "np.array(0) // np.array(0)\n",
        "np.array([np.nan]).astype(int).astype(float)\n",
        "```"
      ]
    },
    {
      "cell_type": "code",
      "execution_count": null,
      "metadata": {
        "id": "k5ItYUlTgaFL",
        "colab": {
          "base_uri": "https://localhost:8080/"
        },
        "outputId": "b015d796-9254-4c55-87c2-e6be05bf8f6c"
      },
      "outputs": [
        {
          "output_type": "stream",
          "name": "stdout",
          "text": [
            "nan\n",
            "0\n",
            "[-9.22337204e+18]\n"
          ]
        },
        {
          "output_type": "stream",
          "name": "stderr",
          "text": [
            "/usr/local/lib/python3.7/dist-packages/ipykernel_launcher.py:1: RuntimeWarning: invalid value encountered in true_divide\n",
            "  \"\"\"Entry point for launching an IPython kernel.\n",
            "/usr/local/lib/python3.7/dist-packages/ipykernel_launcher.py:2: RuntimeWarning: divide by zero encountered in floor_divide\n",
            "  \n"
          ]
        }
      ],
      "source": [
        "print(np.array(0) / np.array(0))\n",
        "print(np.array(0) // np.array(0))\n",
        "print(np.array([np.nan]).astype(int).astype(float))"
      ]
    },
    {
      "cell_type": "markdown",
      "metadata": {
        "id": "TbCJrvZugaFL"
      },
      "source": [
        "#### 29. How to round away from zero a float array ? (★☆☆) \n",
        "(**hint**: np.uniform, np.copysign, np.ceil, np.abs)"
      ]
    },
    {
      "cell_type": "code",
      "execution_count": null,
      "metadata": {
        "id": "LbUJwgWZgaFL",
        "colab": {
          "base_uri": "https://localhost:8080/"
        },
        "outputId": "44da240c-1258-4168-d627-a24569406221"
      },
      "outputs": [
        {
          "output_type": "stream",
          "name": "stdout",
          "text": [
            "[-6.  1. -6. -7.  6. -4. -3. -6. 10.  6.]\n"
          ]
        }
      ],
      "source": [
        "Z = np.random.uniform(-10,+10,10)\n",
        "print (np.copysign(np.ceil(np.abs(Z)), Z))"
      ]
    },
    {
      "cell_type": "markdown",
      "metadata": {
        "id": "OBsP0rBygaFL"
      },
      "source": [
        "#### 30. How to find common values between two arrays? (★☆☆) \n",
        "(**hint**: np.intersect1d)"
      ]
    },
    {
      "cell_type": "code",
      "execution_count": null,
      "metadata": {
        "id": "bYunKKvxgaFM",
        "colab": {
          "base_uri": "https://localhost:8080/"
        },
        "outputId": "5419fa26-612a-4b53-95c0-b67a45b698af"
      },
      "outputs": [
        {
          "output_type": "stream",
          "name": "stdout",
          "text": [
            "[2 3 5 6]\n"
          ]
        }
      ],
      "source": [
        "X1 = np.random.randint(0,10,10)\n",
        "X2 = np.random.randint(0,10,10)\n",
        "print(np.intersect1d(X1,X2))"
      ]
    },
    {
      "cell_type": "markdown",
      "metadata": {
        "id": "U0Jo2drqgaFM"
      },
      "source": [
        "#### 31. How to ignore all numpy warnings (not recommended)? (★☆☆) \n",
        "(**hint**: np.seterr, np.errstate)"
      ]
    },
    {
      "cell_type": "code",
      "execution_count": null,
      "metadata": {
        "id": "r3lJWmrJgaFM"
      },
      "outputs": [],
      "source": [
        "defaults = np.seterr(all=\"ignore\")\n",
        "Z = np.ones(1) / 0\n",
        "\n",
        "_ = np.seterr(**defaults)"
      ]
    },
    {
      "cell_type": "markdown",
      "metadata": {
        "id": "6oXBDQgugaFM"
      },
      "source": [
        "#### 32. Is the following expressions true? (★☆☆) \n",
        "(**hint**: imaginary number)"
      ]
    },
    {
      "cell_type": "markdown",
      "metadata": {
        "id": "ZU3IbrbvgaFM"
      },
      "source": [
        "```python\n",
        "np.sqrt(-1) == np.emath.sqrt(-1)\n",
        "```"
      ]
    },
    {
      "cell_type": "code",
      "source": [
        "np.sqrt(-1) == np.emath.sqrt(-1)"
      ],
      "metadata": {
        "colab": {
          "base_uri": "https://localhost:8080/"
        },
        "id": "sL_Jsih6z_sP",
        "outputId": "1d630a52-a5a2-40f8-b5c2-efb0353c7bee"
      },
      "execution_count": null,
      "outputs": [
        {
          "output_type": "stream",
          "name": "stderr",
          "text": [
            "/usr/local/lib/python3.7/dist-packages/ipykernel_launcher.py:1: RuntimeWarning: invalid value encountered in sqrt\n",
            "  \"\"\"Entry point for launching an IPython kernel.\n"
          ]
        },
        {
          "output_type": "execute_result",
          "data": {
            "text/plain": [
              "False"
            ]
          },
          "metadata": {},
          "execution_count": 89
        }
      ]
    },
    {
      "cell_type": "markdown",
      "metadata": {
        "id": "zoqxQRAugaFM"
      },
      "source": [
        "#### 33. How to get the dates of yesterday, today and tomorrow? (★☆☆) \n",
        "(**hint**: np.datetime64, np.timedelta64)"
      ]
    },
    {
      "cell_type": "code",
      "execution_count": null,
      "metadata": {
        "collapsed": true,
        "id": "Fc3OUSEmgaFM",
        "colab": {
          "base_uri": "https://localhost:8080/"
        },
        "outputId": "9a393da1-9570-49d3-9378-5664202e0d05"
      },
      "outputs": [
        {
          "output_type": "stream",
          "name": "stdout",
          "text": [
            "2022-07-22 2022-07-23 2022-07-24\n"
          ]
        }
      ],
      "source": [
        "yesterday = np.datetime64('today', 'D') - np.timedelta64(1, 'D')\n",
        "today     = np.datetime64('today', 'D')\n",
        "tomorrow  = np.datetime64('today', 'D') + np.timedelta64(1, 'D')\n",
        "print(yesterday,today,tomorrow)"
      ]
    },
    {
      "cell_type": "markdown",
      "metadata": {
        "id": "0m3CQvXpgaFN"
      },
      "source": [
        "#### 34. How to get all the dates corresponding to the month of July 2016? (★★☆) \n",
        "(**hint**: np.arange(dtype=datetime64\\['D'\\]))"
      ]
    },
    {
      "cell_type": "code",
      "execution_count": null,
      "metadata": {
        "id": "nFTDFTykgaFN",
        "colab": {
          "base_uri": "https://localhost:8080/"
        },
        "outputId": "1fec35f6-d6ac-40bb-c7ec-3773af34358d"
      },
      "outputs": [
        {
          "output_type": "stream",
          "name": "stdout",
          "text": [
            "['2016-07-01' '2016-07-02' '2016-07-03' '2016-07-04' '2016-07-05'\n",
            " '2016-07-06' '2016-07-07' '2016-07-08' '2016-07-09' '2016-07-10'\n",
            " '2016-07-11' '2016-07-12' '2016-07-13' '2016-07-14' '2016-07-15'\n",
            " '2016-07-16' '2016-07-17' '2016-07-18' '2016-07-19' '2016-07-20'\n",
            " '2016-07-21' '2016-07-22' '2016-07-23' '2016-07-24' '2016-07-25'\n",
            " '2016-07-26' '2016-07-27' '2016-07-28' '2016-07-29' '2016-07-30'\n",
            " '2016-07-31']\n"
          ]
        }
      ],
      "source": [
        "X = np.arange('2016-07', '2016-08', dtype='datetime64[D]')\n",
        "print(X)"
      ]
    },
    {
      "cell_type": "markdown",
      "metadata": {
        "id": "YQIQDYOmgaFN"
      },
      "source": [
        "#### 35. How to compute ((A+B)\\*(-A/2)) in place (without copy)? (★★☆) \n",
        "(**hint**: np.add(out=), np.negative(out=), np.multiply(out=), np.divide(out=))"
      ]
    },
    {
      "cell_type": "code",
      "execution_count": null,
      "metadata": {
        "id": "hJ5CnNXCgaFN",
        "colab": {
          "base_uri": "https://localhost:8080/"
        },
        "outputId": "1c43e70c-dcba-4d5a-aee0-e6725dfbcd56"
      },
      "outputs": [
        {
          "output_type": "execute_result",
          "data": {
            "text/plain": [
              "array([-1.5, -1.5, -1.5])"
            ]
          },
          "metadata": {},
          "execution_count": 93
        }
      ],
      "source": [
        "A = np.ones(3)*1\n",
        "B = np.ones(3)*2\n",
        "C = np.ones(3)*3\n",
        "np.add(A,B,out=B)\n",
        "np.divide(A,2,out=A)\n",
        "np.negative(A,out=A)\n",
        "np.multiply(A,B,out=A)"
      ]
    },
    {
      "cell_type": "markdown",
      "metadata": {
        "id": "qi-X_Or1gaFN"
      },
      "source": [
        "#### 36. Extract the integer part of a random array using 5 different methods (★★☆) \n",
        "(**hint**: %, np.floor, np.ceil, astype, np.trunc)"
      ]
    },
    {
      "cell_type": "code",
      "execution_count": null,
      "metadata": {
        "id": "1IJ78sB2gaFN",
        "colab": {
          "base_uri": "https://localhost:8080/"
        },
        "outputId": "32aadded-fa86-4342-b25f-74c02b5c117b"
      },
      "outputs": [
        {
          "output_type": "stream",
          "name": "stdout",
          "text": [
            "[7. 8. 3. 7. 5. 5. 4. 8. 0. 3.]\n",
            "[7. 8. 3. 7. 5. 5. 4. 8. 0. 3.]\n",
            "[7. 8. 3. 7. 5. 5. 4. 8. 0. 3.]\n",
            "[7 8 3 7 5 5 4 8 0 3]\n",
            "[7. 8. 3. 7. 5. 5. 4. 8. 0. 3.]\n"
          ]
        }
      ],
      "source": [
        "X = np.random.uniform(0,10,10)\n",
        "\n",
        "print (X - X%1)\n",
        "print (np.floor(X))\n",
        "print (np.ceil(X)-1)\n",
        "print (X.astype(int))\n",
        "print (np.trunc(X))"
      ]
    },
    {
      "cell_type": "markdown",
      "metadata": {
        "id": "-YByzeAjgaFN"
      },
      "source": [
        "#### 37. Create a 5x5 matrix with row values ranging from 0 to 4 (★★☆) \n",
        "(**hint**: np.arange)"
      ]
    },
    {
      "cell_type": "code",
      "execution_count": null,
      "metadata": {
        "id": "pt6BG-oVgaFN",
        "colab": {
          "base_uri": "https://localhost:8080/"
        },
        "outputId": "30ad4d23-a577-44db-e394-e906d8b33706"
      },
      "outputs": [
        {
          "output_type": "stream",
          "name": "stdout",
          "text": [
            "[[0. 1. 2. 3. 4.]\n",
            " [0. 1. 2. 3. 4.]\n",
            " [0. 1. 2. 3. 4.]\n",
            " [0. 1. 2. 3. 4.]\n",
            " [0. 1. 2. 3. 4.]]\n"
          ]
        }
      ],
      "source": [
        "Z = np.zeros((5,5))\n",
        "Z += np.arange(5)\n",
        "print(Z)"
      ]
    },
    {
      "cell_type": "markdown",
      "metadata": {
        "id": "eN9agaaCgaFO"
      },
      "source": [
        "#### 38. Consider a generator function that generates 10 integers and use it to build an array (★☆☆) \n",
        "(**hint**: np.fromiter)"
      ]
    },
    {
      "cell_type": "code",
      "execution_count": null,
      "metadata": {
        "id": "RithYmljgaFO",
        "colab": {
          "base_uri": "https://localhost:8080/"
        },
        "outputId": "b3be5bf8-9ea7-45a2-d8bc-d1b57aef6ab0"
      },
      "outputs": [
        {
          "output_type": "stream",
          "name": "stdout",
          "text": [
            "[0. 1. 2. 3. 4. 5. 6. 7. 8. 9.]\n"
          ]
        }
      ],
      "source": [
        "def generate():\n",
        "    for x in range(10):\n",
        "        yield x\n",
        "Z = np.fromiter(generate(),dtype=float,count=-1)\n",
        "print(Z)"
      ]
    },
    {
      "cell_type": "markdown",
      "metadata": {
        "id": "1CT886nxgaFO"
      },
      "source": [
        "#### 39. Create a vector of size 10 with values ranging from 0 to 1, both excluded (★★☆) \n",
        "(**hint**: np.linspace)"
      ]
    },
    {
      "cell_type": "code",
      "execution_count": null,
      "metadata": {
        "id": "1nq-blIygaFO",
        "colab": {
          "base_uri": "https://localhost:8080/"
        },
        "outputId": "0317b30c-f627-49e6-f85b-ac5bc46065b1"
      },
      "outputs": [
        {
          "output_type": "stream",
          "name": "stdout",
          "text": [
            "[0.09090909 0.18181818 0.27272727 0.36363636 0.45454545 0.54545455\n",
            " 0.63636364 0.72727273 0.81818182 0.90909091]\n"
          ]
        }
      ],
      "source": [
        "Z = np.linspace(0,1,11,endpoint=False)[1:]\n",
        "print(Z)"
      ]
    },
    {
      "cell_type": "markdown",
      "metadata": {
        "id": "h6O4Rt4qgaFO"
      },
      "source": [
        "#### 40. Create a random vector of size 10 and sort it (★★☆) \n",
        "(**hint**: sort)"
      ]
    },
    {
      "cell_type": "code",
      "source": [
        "X = np.random.random(10)\n",
        "X.sort()\n",
        "print(X)"
      ],
      "metadata": {
        "colab": {
          "base_uri": "https://localhost:8080/"
        },
        "id": "WEWIGNO01qG2",
        "outputId": "dd31be2f-ef64-4af0-f958-3cd70aeed17f"
      },
      "execution_count": null,
      "outputs": [
        {
          "output_type": "stream",
          "name": "stdout",
          "text": [
            "[0.11127772 0.16125402 0.18560253 0.2735393  0.50112406 0.52324083\n",
            " 0.67235759 0.70898978 0.90410225 0.94571447]\n"
          ]
        }
      ]
    },
    {
      "cell_type": "markdown",
      "metadata": {
        "id": "2FtX5SkJgaFO"
      },
      "source": [
        "#### 41. How to sum a small array faster than np.sum? (★★☆) \n",
        "(**hint**: np.add.reduce)"
      ]
    },
    {
      "cell_type": "code",
      "execution_count": null,
      "metadata": {
        "id": "jgXQs9a1gaFO",
        "colab": {
          "base_uri": "https://localhost:8080/"
        },
        "outputId": "8c31af4c-92b3-41ec-d7ec-b2ce5217fb2a"
      },
      "outputs": [
        {
          "output_type": "execute_result",
          "data": {
            "text/plain": [
              "45"
            ]
          },
          "metadata": {},
          "execution_count": 99
        }
      ],
      "source": [
        "X = np.arange(10)\n",
        "np.add.reduce(X)"
      ]
    },
    {
      "cell_type": "markdown",
      "metadata": {
        "id": "b9uepmDZgaFO"
      },
      "source": [
        "#### 42. Consider two random array A and B, check if they are equal (★★☆) \n",
        "(**hint**: np.allclose, np.array\\_equal)"
      ]
    },
    {
      "cell_type": "code",
      "source": [
        "A = np.random.randint(0,2,5)\n",
        "B = np.random.randint(0,2,5)\n",
        "\n",
        "# Assuming identical shape of the arrays and a tolerance for the comparison of values\n",
        "equal = np.allclose(A,B)\n",
        "print(equal)\n",
        "\n",
        "# Checking both the shape and the element values, no tolerance (values have to be exactly equal)\n",
        "equal = np.array_equal(A,B)\n",
        "print(equal)"
      ],
      "metadata": {
        "colab": {
          "base_uri": "https://localhost:8080/"
        },
        "id": "4Hq-NY5gCrw6",
        "outputId": "c82b6360-86e3-402a-b106-eb8fec62c93c"
      },
      "execution_count": null,
      "outputs": [
        {
          "output_type": "stream",
          "name": "stdout",
          "text": [
            "False\n",
            "False\n"
          ]
        }
      ]
    },
    {
      "cell_type": "markdown",
      "metadata": {
        "id": "W4kWBr7fgaFP"
      },
      "source": [
        "#### 43. Make an array immutable (read-only) (★★☆) \n",
        "(**hint**: flags.writeable)"
      ]
    },
    {
      "cell_type": "code",
      "source": [
        "Z = np.zeros(10)\n",
        "Z.flags.writeable = False\n",
        "Z[0] = 1"
      ],
      "metadata": {
        "colab": {
          "base_uri": "https://localhost:8080/",
          "height": 201
        },
        "id": "uELYSnHfD33z",
        "outputId": "6c01da14-556d-443b-974d-1a74c319bf20"
      },
      "execution_count": 92,
      "outputs": [
        {
          "output_type": "error",
          "ename": "ValueError",
          "evalue": "ignored",
          "traceback": [
            "\u001b[0;31m---------------------------------------------------------------------------\u001b[0m",
            "\u001b[0;31mValueError\u001b[0m                                Traceback (most recent call last)",
            "\u001b[0;32m<ipython-input-92-dcc5e7f145b5>\u001b[0m in \u001b[0;36m<module>\u001b[0;34m()\u001b[0m\n\u001b[1;32m      1\u001b[0m \u001b[0mZ\u001b[0m \u001b[0;34m=\u001b[0m \u001b[0mnp\u001b[0m\u001b[0;34m.\u001b[0m\u001b[0mzeros\u001b[0m\u001b[0;34m(\u001b[0m\u001b[0;36m10\u001b[0m\u001b[0;34m)\u001b[0m\u001b[0;34m\u001b[0m\u001b[0;34m\u001b[0m\u001b[0m\n\u001b[1;32m      2\u001b[0m \u001b[0mZ\u001b[0m\u001b[0;34m.\u001b[0m\u001b[0mflags\u001b[0m\u001b[0;34m.\u001b[0m\u001b[0mwriteable\u001b[0m \u001b[0;34m=\u001b[0m \u001b[0;32mFalse\u001b[0m\u001b[0;34m\u001b[0m\u001b[0;34m\u001b[0m\u001b[0m\n\u001b[0;32m----> 3\u001b[0;31m \u001b[0mZ\u001b[0m\u001b[0;34m[\u001b[0m\u001b[0;36m0\u001b[0m\u001b[0;34m]\u001b[0m \u001b[0;34m=\u001b[0m \u001b[0;36m1\u001b[0m\u001b[0;34m\u001b[0m\u001b[0;34m\u001b[0m\u001b[0m\n\u001b[0m",
            "\u001b[0;31mValueError\u001b[0m: assignment destination is read-only"
          ]
        }
      ]
    },
    {
      "cell_type": "markdown",
      "metadata": {
        "id": "BnSn6dungaFP"
      },
      "source": [
        "#### 44. Consider a random 10x2 matrix representing cartesian coordinates, convert them to polar coordinates (★★☆) \n",
        "(**hint**: np.sqrt, np.arctan2)"
      ]
    },
    {
      "cell_type": "code",
      "execution_count": null,
      "metadata": {
        "id": "1Et5qEN1gaFP",
        "colab": {
          "base_uri": "https://localhost:8080/"
        },
        "outputId": "1c442240-7647-48dd-d044-9639f249bf42"
      },
      "outputs": [
        {
          "output_type": "stream",
          "name": "stdout",
          "text": [
            "[0.81626745 1.18398628 1.1831062  0.70060991 0.11314548 0.15115187\n",
            " 0.87661828 0.52538105 0.62765509 1.0810507 ]\n",
            "[1.21822498 0.85107251 0.89396128 1.3305977  0.80051275 1.10142082\n",
            " 0.26595124 0.43389504 0.894898   0.82362892]\n"
          ]
        }
      ],
      "source": [
        "Z = np.random.random((10,2))\n",
        "X,Y = Z[:,0], Z[:,1]\n",
        "R = np.sqrt(X**2+Y**2)\n",
        "T = np.arctan2(Y,X)\n",
        "print(R)\n",
        "print(T)"
      ]
    },
    {
      "cell_type": "markdown",
      "metadata": {
        "id": "4bDz8eAVgaFP"
      },
      "source": [
        "#### 45. Create random vector of size 10 and replace the maximum value by 0 (★★☆) \n",
        "(**hint**: argmax)"
      ]
    },
    {
      "cell_type": "code",
      "execution_count": null,
      "metadata": {
        "id": "pjuBRJ5dgaFP",
        "colab": {
          "base_uri": "https://localhost:8080/"
        },
        "outputId": "862fc1fc-5bab-4c6b-daa2-3bbd0ed2ffab"
      },
      "outputs": [
        {
          "output_type": "stream",
          "name": "stdout",
          "text": [
            "[0.         0.96554269 0.3678248  0.93303364 0.85147731 0.60286799\n",
            " 0.05577886 0.98676497 0.44388612 0.38261197]\n"
          ]
        }
      ],
      "source": [
        "X = np.random.random(10)\n",
        "X[X.argmax()] = 0\n",
        "print(X)"
      ]
    },
    {
      "cell_type": "markdown",
      "metadata": {
        "id": "Y6SrkGXTgaFP"
      },
      "source": [
        "#### 46. Create a structured array with `x` and `y` coordinates covering the \\[0,1\\]x\\[0,1\\] area (★★☆) \n",
        "(**hint**: np.meshgrid)"
      ]
    },
    {
      "cell_type": "code",
      "execution_count": null,
      "metadata": {
        "id": "QbalXyQIgaFQ",
        "colab": {
          "base_uri": "https://localhost:8080/"
        },
        "outputId": "421c3617-76b6-48e2-9355-41834302b270"
      },
      "outputs": [
        {
          "output_type": "stream",
          "name": "stdout",
          "text": [
            "[[(0.  , 0.  ) (0.25, 0.  ) (0.5 , 0.  ) (0.75, 0.  ) (1.  , 0.  )]\n",
            " [(0.  , 0.25) (0.25, 0.25) (0.5 , 0.25) (0.75, 0.25) (1.  , 0.25)]\n",
            " [(0.  , 0.5 ) (0.25, 0.5 ) (0.5 , 0.5 ) (0.75, 0.5 ) (1.  , 0.5 )]\n",
            " [(0.  , 0.75) (0.25, 0.75) (0.5 , 0.75) (0.75, 0.75) (1.  , 0.75)]\n",
            " [(0.  , 1.  ) (0.25, 1.  ) (0.5 , 1.  ) (0.75, 1.  ) (1.  , 1.  )]]\n"
          ]
        }
      ],
      "source": [
        "Z = np.zeros((5,5), [('x',float),('y',float)])\n",
        "Z['x'], Z['y'] = np.meshgrid(np.linspace(0,1,5),\n",
        "                             np.linspace(0,1,5))\n",
        "print(Z)"
      ]
    },
    {
      "cell_type": "markdown",
      "metadata": {
        "id": "9M22U9P3gaFQ"
      },
      "source": [
        "####  47. Given two arrays, X and Y, construct the Cauchy matrix C (Cij =1/(xi - yj)) \n",
        "(**hint**: np.subtract.outer)"
      ]
    },
    {
      "cell_type": "code",
      "execution_count": null,
      "metadata": {
        "id": "xuR3FhYfgaFQ",
        "colab": {
          "base_uri": "https://localhost:8080/"
        },
        "outputId": "43d6384d-3231-40f0-df93-c17ee534b41e"
      },
      "outputs": [
        {
          "output_type": "stream",
          "name": "stdout",
          "text": [
            "3638.163637117973\n"
          ]
        }
      ],
      "source": [
        "X = np.arange(8)\n",
        "Y = X + 0.5\n",
        "C = 1.0 / np.subtract.outer(X, Y)\n",
        "print(np.linalg.det(C))"
      ]
    },
    {
      "cell_type": "markdown",
      "metadata": {
        "id": "CwgKclSdgaFQ"
      },
      "source": [
        "#### 48. Print the minimum and maximum representable value for each numpy scalar type (★★☆) \n",
        "(**hint**: np.iinfo, np.finfo, eps)"
      ]
    },
    {
      "cell_type": "code",
      "execution_count": null,
      "metadata": {
        "id": "KAr1Ifv_gaFQ",
        "colab": {
          "base_uri": "https://localhost:8080/"
        },
        "outputId": "97715ac2-11fe-4393-b5f3-fa38f5170926"
      },
      "outputs": [
        {
          "output_type": "stream",
          "name": "stdout",
          "text": [
            "-128\n",
            "127\n",
            "-2147483648\n",
            "2147483647\n",
            "-9223372036854775808\n",
            "9223372036854775807\n",
            "-3.4028235e+38\n",
            "3.4028235e+38\n",
            "1.1920929e-07\n",
            "-1.7976931348623157e+308\n",
            "1.7976931348623157e+308\n",
            "2.220446049250313e-16\n"
          ]
        }
      ],
      "source": [
        "for dtype in [np.int8, np.int32, np.int64]:\n",
        "   print(np.iinfo(dtype).min)\n",
        "   print(np.iinfo(dtype).max)\n",
        "for dtype in [np.float32, np.float64]:\n",
        "   print(np.finfo(dtype).min)\n",
        "   print(np.finfo(dtype).max)\n",
        "   print(np.finfo(dtype).eps)"
      ]
    },
    {
      "cell_type": "markdown",
      "metadata": {
        "id": "4usguUq5gaFQ"
      },
      "source": [
        "#### 49. How to print all the values of an array? (★★☆) \n",
        "(**hint**: np.set\\_printoptions)"
      ]
    },
    {
      "cell_type": "code",
      "execution_count": null,
      "metadata": {
        "id": "AVbvbZwPgaFR",
        "colab": {
          "base_uri": "https://localhost:8080/"
        },
        "outputId": "fab3fee2-5590-4743-a3b7-5743a46c19da"
      },
      "outputs": [
        {
          "output_type": "stream",
          "name": "stdout",
          "text": [
            "[[0. 0. 0. 0. 0. 0. 0. 0. 0. 0. 0. 0. 0. 0. 0. 0.]\n",
            " [0. 0. 0. 0. 0. 0. 0. 0. 0. 0. 0. 0. 0. 0. 0. 0.]\n",
            " [0. 0. 0. 0. 0. 0. 0. 0. 0. 0. 0. 0. 0. 0. 0. 0.]\n",
            " [0. 0. 0. 0. 0. 0. 0. 0. 0. 0. 0. 0. 0. 0. 0. 0.]\n",
            " [0. 0. 0. 0. 0. 0. 0. 0. 0. 0. 0. 0. 0. 0. 0. 0.]\n",
            " [0. 0. 0. 0. 0. 0. 0. 0. 0. 0. 0. 0. 0. 0. 0. 0.]\n",
            " [0. 0. 0. 0. 0. 0. 0. 0. 0. 0. 0. 0. 0. 0. 0. 0.]\n",
            " [0. 0. 0. 0. 0. 0. 0. 0. 0. 0. 0. 0. 0. 0. 0. 0.]\n",
            " [0. 0. 0. 0. 0. 0. 0. 0. 0. 0. 0. 0. 0. 0. 0. 0.]\n",
            " [0. 0. 0. 0. 0. 0. 0. 0. 0. 0. 0. 0. 0. 0. 0. 0.]\n",
            " [0. 0. 0. 0. 0. 0. 0. 0. 0. 0. 0. 0. 0. 0. 0. 0.]\n",
            " [0. 0. 0. 0. 0. 0. 0. 0. 0. 0. 0. 0. 0. 0. 0. 0.]\n",
            " [0. 0. 0. 0. 0. 0. 0. 0. 0. 0. 0. 0. 0. 0. 0. 0.]\n",
            " [0. 0. 0. 0. 0. 0. 0. 0. 0. 0. 0. 0. 0. 0. 0. 0.]\n",
            " [0. 0. 0. 0. 0. 0. 0. 0. 0. 0. 0. 0. 0. 0. 0. 0.]\n",
            " [0. 0. 0. 0. 0. 0. 0. 0. 0. 0. 0. 0. 0. 0. 0. 0.]]\n"
          ]
        }
      ],
      "source": [
        "np.set_printoptions\n",
        "Z = np.zeros((16,16))\n",
        "print(Z)"
      ]
    },
    {
      "cell_type": "markdown",
      "metadata": {
        "id": "04TOEcIkgaFQ"
      },
      "source": [
        "#### 50. How to find the closest value (to a given scalar) in a vector? (★★☆) \n",
        "(**hint**: argmin)"
      ]
    },
    {
      "cell_type": "code",
      "source": [
        "Z = np.arange(100)\n",
        "v = np.random.uniform(0,100)\n",
        "index = (np.abs(Z-v)).argmin()\n",
        "print(Z[index])\n"
      ],
      "metadata": {
        "colab": {
          "base_uri": "https://localhost:8080/"
        },
        "id": "MrjFcINKGZp1",
        "outputId": "13531f43-eb95-4d58-ddbc-5607a10c9481"
      },
      "execution_count": null,
      "outputs": [
        {
          "output_type": "stream",
          "name": "stdout",
          "text": [
            "94\n"
          ]
        }
      ]
    },
    {
      "cell_type": "markdown",
      "metadata": {
        "id": "WNTelBlMgaFR"
      },
      "source": [
        "#### 51. Create a structured array representing a position (x,y) and a color (r,g,b) (★★☆) \n",
        "(**hint**: dtype)"
      ]
    },
    {
      "cell_type": "code",
      "execution_count": null,
      "metadata": {
        "colab": {
          "base_uri": "https://localhost:8080/"
        },
        "id": "J5C5fY1D25W9",
        "outputId": "ab38370d-1c1a-4fcc-bc83-47069e3b43af"
      },
      "outputs": [
        {
          "output_type": "stream",
          "name": "stdout",
          "text": [
            "[((0., 0.), (0., 0., 0.)) ((0., 0.), (0., 0., 0.))\n",
            " ((0., 0.), (0., 0., 0.)) ((0., 0.), (0., 0., 0.))\n",
            " ((0., 0.), (0., 0., 0.)) ((0., 0.), (0., 0., 0.))\n",
            " ((0., 0.), (0., 0., 0.)) ((0., 0.), (0., 0., 0.))\n",
            " ((0., 0.), (0., 0., 0.)) ((0., 0.), (0., 0., 0.))]\n"
          ]
        },
        {
          "output_type": "stream",
          "name": "stderr",
          "text": [
            "/usr/local/lib/python3.7/dist-packages/ipykernel_launcher.py:5: FutureWarning: Passing (type, 1) or '1type' as a synonym of type is deprecated; in a future version of numpy, it will be understood as (type, (1,)) / '(1,)type'.\n",
            "  \"\"\"\n"
          ]
        }
      ],
      "source": [
        "Z = np.zeros(10, [ ('position', [ ('x', float, 1),\n",
        "                                  ('y', float, 1)]),\n",
        "                   ('color',    [ ('r', float, 1),\n",
        "                                  ('g', float, 1),\n",
        "                                  ('b', float, 1)])])\n",
        "print(Z)"
      ]
    },
    {
      "cell_type": "markdown",
      "metadata": {
        "id": "VP2oX7Yl3b7O"
      },
      "source": [
        "#### 52. Consider a random vector with shape (100,2) representing coordinates, find point by point distances (★★☆) \n",
        "(**hint**: np.atleast\\_2d, T, np.sqrt)"
      ]
    },
    {
      "cell_type": "code",
      "execution_count": null,
      "metadata": {
        "colab": {
          "base_uri": "https://localhost:8080/"
        },
        "id": "CUkPzFJW3b7Q",
        "outputId": "bcc23c2a-2b35-4fb6-fc76-334ae3d70f8a"
      },
      "outputs": [
        {
          "output_type": "stream",
          "name": "stdout",
          "text": [
            "[[0.         0.37719653 0.79798004 0.67752882 0.29904977 0.40055781\n",
            "  0.18782841 0.47113194 0.46017703 0.15641115]\n",
            " [0.37719653 0.         0.68409473 0.53036698 0.54694633 0.74948353\n",
            "  0.35205596 0.73804034 0.82210986 0.42575427]\n",
            " [0.79798004 0.68409473 0.         0.15536952 0.64031045 0.89354058\n",
            "  0.61308911 0.70810777 1.19838048 0.68192568]\n",
            " [0.67752882 0.53036698 0.15536952 0.         0.56816673 0.83233457\n",
            "  0.50032936 0.67463509 1.10230275 0.57952188]\n",
            " [0.29904977 0.54694633 0.64031045 0.56816673 0.         0.26594185\n",
            "  0.19540807 0.19226793 0.56868525 0.14785173]\n",
            " [0.40055781 0.74948353 0.89354058 0.83233457 0.26594185 0.\n",
            "  0.41566321 0.22507465 0.3879339  0.32807713]\n",
            " [0.18782841 0.35205596 0.61308911 0.50032936 0.19540807 0.41566321\n",
            "  0.         0.38743779 0.60636609 0.09222601]\n",
            " [0.47113194 0.73804034 0.70810777 0.67463509 0.19226793 0.22507465\n",
            "  0.38743779 0.         0.60803363 0.3334878 ]\n",
            " [0.46017703 0.82210986 1.19838048 1.10230275 0.56868525 0.3879339\n",
            "  0.60636609 0.60803363 0.         0.52284611]\n",
            " [0.15641115 0.42575427 0.68192568 0.57952188 0.14785173 0.32807713\n",
            "  0.09222601 0.3334878  0.52284611 0.        ]]\n",
            "[[0.         0.38573638 0.38941595 0.56357807 0.56625918 0.14329549\n",
            "  0.59608236 0.38218306 0.47090164 0.53643056]\n",
            " [0.38573638 0.         0.76848646 0.47089824 0.47653256 0.31888304\n",
            "  0.34471836 0.6547436  0.74084478 0.15318413]\n",
            " [0.38941595 0.76848646 0.         0.78336353 0.78318306 0.46391739\n",
            "  0.90378137 0.48584646 0.341519   0.92124748]\n",
            " [0.56357807 0.47089824 0.78336353 0.         0.00604254 0.42063652\n",
            "  0.23008916 0.94393852 0.55108484 0.54402167]\n",
            " [0.56625918 0.47653256 0.78318306 0.00604254 0.         0.42343732\n",
            "  0.23567537 0.94688223 0.54866465 0.55003113]\n",
            " [0.14329549 0.31888304 0.46391739 0.42063652 0.42343732 0.\n",
            "  0.46314599 0.52365351 0.43566893 0.4709022 ]\n",
            " [0.59608236 0.34471836 0.90378137 0.23008916 0.23567537 0.46314599\n",
            "  0.         0.94673125 0.7354424  0.35967331]\n",
            " [0.38218306 0.6547436  0.48584646 0.94393852 0.94688223 0.52365351\n",
            "  0.94673125 0.         0.75303075 0.77299088]\n",
            " [0.47090164 0.74084478 0.341519   0.55108484 0.54866465 0.43566893\n",
            "  0.7354424  0.75303075 0.         0.88522747]\n",
            " [0.53643056 0.15318413 0.92124748 0.54402167 0.55003113 0.4709022\n",
            "  0.35967331 0.77299088 0.88522747 0.        ]]\n"
          ]
        }
      ],
      "source": [
        "Z = np.random.random((10,2))\n",
        "X,Y = np.atleast_2d(Z[:,0], Z[:,1])\n",
        "D = np.sqrt( (X-X.T)**2 + (Y-Y.T)**2)\n",
        "print(D)\n",
        "\n",
        "import scipy\n",
        "\n",
        "import scipy.spatial\n",
        "\n",
        "Z = np.random.random((10,2))\n",
        "D = scipy.spatial.distance.cdist(Z,Z)\n",
        "print(D)"
      ]
    },
    {
      "cell_type": "markdown",
      "metadata": {
        "id": "IUShI5U0gaFR"
      },
      "source": [
        "#### 53. How to convert a float (32 bits) array into an integer (32 bits) in place? \n",
        "(**hint**: astype(copy=False))"
      ]
    },
    {
      "cell_type": "code",
      "execution_count": null,
      "metadata": {
        "id": "Wy0MeqGwgaFS",
        "colab": {
          "base_uri": "https://localhost:8080/"
        },
        "outputId": "b25f883f-6c79-4550-bb7d-1b5da3cc4c4e"
      },
      "outputs": [
        {
          "output_type": "stream",
          "name": "stdout",
          "text": [
            "[0. 1. 2. 3. 4. 5. 6. 7. 8. 9.]\n"
          ]
        }
      ],
      "source": [
        "Z = np.arange(10, dtype=np.int32)\n",
        "Z = Z.astype(np.float32, copy=False)\n",
        "print(Z)"
      ]
    },
    {
      "cell_type": "markdown",
      "metadata": {
        "id": "SRgZcYMrgaFS"
      },
      "source": [
        "#### 54. How to read the following file? (★★☆) \n",
        "(**hint**: np.genfromtxt)"
      ]
    },
    {
      "cell_type": "markdown",
      "metadata": {
        "id": "tcttjBV4gaFS"
      },
      "source": [
        "```\n",
        "1, 2, 3, 4, 5\n",
        "6,  ,  , 7, 8\n",
        " ,  , 9,10,11\n",
        "```"
      ]
    },
    {
      "cell_type": "code",
      "execution_count": null,
      "metadata": {
        "id": "HC7NdoOVgaFS",
        "colab": {
          "base_uri": "https://localhost:8080/"
        },
        "outputId": "34bdfda7-c5c5-46c3-d406-7e0f0af93aab"
      },
      "outputs": [
        {
          "output_type": "stream",
          "name": "stdout",
          "text": [
            "[[ 1  2  3  4  5]\n",
            " [ 6 -1 -1  7  8]\n",
            " [-1 -1  9 10 11]]\n"
          ]
        },
        {
          "output_type": "stream",
          "name": "stderr",
          "text": [
            "/usr/local/lib/python3.7/dist-packages/ipykernel_launcher.py:7: DeprecationWarning: `np.int` is a deprecated alias for the builtin `int`. To silence this warning, use `int` by itself. Doing this will not modify any behavior and is safe. When replacing `np.int`, you may wish to use e.g. `np.int64` or `np.int32` to specify the precision. If you wish to review your current use, check the release note link for additional information.\n",
            "Deprecated in NumPy 1.20; for more details and guidance: https://numpy.org/devdocs/release/1.20.0-notes.html#deprecations\n",
            "  import sys\n"
          ]
        }
      ],
      "source": [
        "from io import StringIO\n",
        "\n",
        "# Fake file \n",
        "s = StringIO(\"\"\"1, 2, 3, 4, 5\\n\n",
        "                6,  ,  , 7, 8\\n\n",
        "                 ,  , 9,10,11\\n\"\"\")\n",
        "Z = np.genfromtxt(s, delimiter=\",\", dtype=np.int)\n",
        "print(Z)"
      ]
    },
    {
      "cell_type": "markdown",
      "metadata": {
        "id": "KaypY5DxgaFS"
      },
      "source": [
        "#### 55. What is the equivalent of enumerate for numpy arrays? (★★☆) \n",
        "(**hint**: np.ndenumerate, np.ndindex)"
      ]
    },
    {
      "cell_type": "code",
      "execution_count": null,
      "metadata": {
        "id": "5t08JJFmgaFS",
        "colab": {
          "base_uri": "https://localhost:8080/"
        },
        "outputId": "7e6b34f6-6378-47a4-8b2c-c14e5a6ce354"
      },
      "outputs": [
        {
          "output_type": "stream",
          "name": "stdout",
          "text": [
            "(0, 0) 0\n",
            "(0, 1) 1\n",
            "(0, 2) 2\n",
            "(1, 0) 3\n",
            "(1, 1) 4\n",
            "(1, 2) 5\n",
            "(2, 0) 6\n",
            "(2, 1) 7\n",
            "(2, 2) 8\n",
            "(0, 0) 0\n",
            "(0, 1) 1\n",
            "(0, 2) 2\n",
            "(1, 0) 3\n",
            "(1, 1) 4\n",
            "(1, 2) 5\n",
            "(2, 0) 6\n",
            "(2, 1) 7\n",
            "(2, 2) 8\n"
          ]
        }
      ],
      "source": [
        "X = np.arange(9).reshape(3,3)\n",
        "for index, value in np.ndenumerate(X):\n",
        "    print(index, value)\n",
        "for index in np.ndindex(X.shape):\n",
        "    print(index, X[index])"
      ]
    },
    {
      "cell_type": "markdown",
      "metadata": {
        "id": "85YmoZ09gaFS"
      },
      "source": [
        "#### 56. Generate a generic 2D Gaussian-like array (★★☆) \n",
        "(**hint**: np.meshgrid, np.exp)"
      ]
    },
    {
      "cell_type": "code",
      "execution_count": null,
      "metadata": {
        "id": "C0n5aglWgaFT",
        "colab": {
          "base_uri": "https://localhost:8080/"
        },
        "outputId": "c2c443c1-0a76-4436-c084-1f4cdd970445"
      },
      "outputs": [
        {
          "output_type": "stream",
          "name": "stdout",
          "text": [
            "[[0.36787944 0.44822088 0.51979489 0.57375342 0.60279818 0.60279818\n",
            "  0.57375342 0.51979489 0.44822088 0.36787944]\n",
            " [0.44822088 0.54610814 0.63331324 0.69905581 0.73444367 0.73444367\n",
            "  0.69905581 0.63331324 0.54610814 0.44822088]\n",
            " [0.51979489 0.63331324 0.73444367 0.81068432 0.85172308 0.85172308\n",
            "  0.81068432 0.73444367 0.63331324 0.51979489]\n",
            " [0.57375342 0.69905581 0.81068432 0.89483932 0.9401382  0.9401382\n",
            "  0.89483932 0.81068432 0.69905581 0.57375342]\n",
            " [0.60279818 0.73444367 0.85172308 0.9401382  0.98773022 0.98773022\n",
            "  0.9401382  0.85172308 0.73444367 0.60279818]\n",
            " [0.60279818 0.73444367 0.85172308 0.9401382  0.98773022 0.98773022\n",
            "  0.9401382  0.85172308 0.73444367 0.60279818]\n",
            " [0.57375342 0.69905581 0.81068432 0.89483932 0.9401382  0.9401382\n",
            "  0.89483932 0.81068432 0.69905581 0.57375342]\n",
            " [0.51979489 0.63331324 0.73444367 0.81068432 0.85172308 0.85172308\n",
            "  0.81068432 0.73444367 0.63331324 0.51979489]\n",
            " [0.44822088 0.54610814 0.63331324 0.69905581 0.73444367 0.73444367\n",
            "  0.69905581 0.63331324 0.54610814 0.44822088]\n",
            " [0.36787944 0.44822088 0.51979489 0.57375342 0.60279818 0.60279818\n",
            "  0.57375342 0.51979489 0.44822088 0.36787944]]\n"
          ]
        }
      ],
      "source": [
        "X, Y = np.meshgrid(np.linspace(-1,1,10), np.linspace(-1,1,10))\n",
        "D = np.sqrt(X*X+Y*Y)\n",
        "sigma, mu = 1.0, 0.0\n",
        "G = np.exp(-( (D-mu)**2 / ( 2.0 * sigma**2 ) ) )\n",
        "print(G)"
      ]
    },
    {
      "cell_type": "markdown",
      "metadata": {
        "id": "NbDxKlOsgaFT"
      },
      "source": [
        "#### 57. How to randomly place p elements in a 2D array? (★★☆) \n",
        "(**hint**: np.put, np.random.choice)"
      ]
    },
    {
      "cell_type": "code",
      "execution_count": null,
      "metadata": {
        "id": "av-AgXNzgaFT",
        "colab": {
          "base_uri": "https://localhost:8080/"
        },
        "outputId": "fb648cb6-7b03-45db-c60d-a642c3e5b358"
      },
      "outputs": [
        {
          "output_type": "stream",
          "name": "stdout",
          "text": [
            "[[0. 0. 0. 0. 0. 0. 0. 0. 1. 1.]\n",
            " [0. 0. 0. 0. 0. 0. 0. 0. 0. 0.]\n",
            " [0. 0. 0. 0. 0. 0. 0. 0. 0. 0.]\n",
            " [0. 0. 0. 0. 0. 0. 0. 0. 0. 0.]\n",
            " [0. 0. 0. 0. 0. 0. 0. 0. 1. 0.]\n",
            " [0. 0. 0. 0. 0. 0. 0. 0. 0. 0.]\n",
            " [0. 0. 0. 0. 0. 0. 0. 0. 0. 0.]\n",
            " [0. 0. 0. 0. 0. 0. 0. 0. 0. 0.]\n",
            " [0. 0. 0. 0. 0. 0. 0. 0. 0. 0.]\n",
            " [0. 0. 0. 0. 0. 0. 0. 0. 0. 0.]]\n"
          ]
        }
      ],
      "source": [
        "n = 10\n",
        "p = 3\n",
        "Z = np.zeros((n,n))\n",
        "np.put(Z, np.random.choice(range(n*n), p, replace=False),1)\n",
        "print(Z)"
      ]
    },
    {
      "cell_type": "markdown",
      "metadata": {
        "id": "oZSItGgRgaFT"
      },
      "source": [
        "#### 58. Subtract the mean of each row of a matrix (★★☆) \n",
        "(**hint**: mean(axis=,keepdims=))"
      ]
    },
    {
      "cell_type": "code",
      "execution_count": 103,
      "metadata": {
        "id": "B2CO3AhEgaFT",
        "colab": {
          "base_uri": "https://localhost:8080/"
        },
        "outputId": "fb7a7e32-1e94-47a8-a691-477e4e461952"
      },
      "outputs": [
        {
          "output_type": "stream",
          "name": "stdout",
          "text": [
            "[[-0.03064114 -0.3269462   0.12146634 -0.1819693   0.13585517 -0.2177836\n",
            "   0.25935267  0.28110687 -0.46960605  0.42916524]\n",
            " [-0.02303802  0.1528191   0.38205951  0.36578653  0.07308988 -0.28136201\n",
            "  -0.02817339 -0.10870695 -0.24443353 -0.28804111]\n",
            " [-0.49538176  0.327845   -0.46316453  0.00558161  0.39549834  0.15277185\n",
            "  -0.53605524  0.30807816 -0.01094631  0.31577288]\n",
            " [ 0.19614723  0.14234036 -0.26008782 -0.0181988  -0.36902689 -0.11201081\n",
            "   0.18792254  0.03037359  0.14070229  0.0618383 ]\n",
            " [-0.03090237  0.31523003 -0.04188372  0.41149958 -0.07451534 -0.14124782\n",
            "  -0.25718242 -0.33019357 -0.25533491  0.40453054]]\n"
          ]
        }
      ],
      "source": [
        "X = np.random.rand(5, 10)\n",
        "\n",
        "# Recent versions of numpy\n",
        "Y = X - X.mean(axis=1, keepdims=True)\n",
        "\n",
        "\n",
        "# Older versions of numpy\n",
        "#Y = X - X.mean(axis=1).reshape(-1, 1)\n",
        "\n",
        "print(Y)"
      ]
    },
    {
      "cell_type": "markdown",
      "metadata": {
        "id": "h4flnyXIgaFT"
      },
      "source": [
        "#### 59. How to sort an array by the nth column? (★★☆) \n",
        "(**hint**: argsort)"
      ]
    },
    {
      "cell_type": "code",
      "execution_count": null,
      "metadata": {
        "id": "odBQ9ru5gaFT",
        "colab": {
          "base_uri": "https://localhost:8080/"
        },
        "outputId": "a7cef388-baf3-4697-8eca-8072bb27c817"
      },
      "outputs": [
        {
          "output_type": "stream",
          "name": "stdout",
          "text": [
            "[[3 9 4]\n",
            " [3 2 4]\n",
            " [9 5 2]]\n",
            "[[3 2 4]\n",
            " [9 5 2]\n",
            " [3 9 4]]\n"
          ]
        }
      ],
      "source": [
        "Y = np.random.randint(0,10,(3,3))\n",
        "print(Y)\n",
        "print(Y[Y[:,1].argsort()])"
      ]
    },
    {
      "cell_type": "markdown",
      "metadata": {
        "id": "p3_YA12LgaFU"
      },
      "source": [
        "#### 60. How to tell if a given 2D array has null columns? (★★☆) \n",
        "(**hint**: any, ~)"
      ]
    },
    {
      "cell_type": "code",
      "execution_count": null,
      "metadata": {
        "id": "CIR4DR5WgaFU",
        "colab": {
          "base_uri": "https://localhost:8080/"
        },
        "outputId": "0c7d7103-0c78-46f5-8b6c-a552a1b9bbe8"
      },
      "outputs": [
        {
          "output_type": "stream",
          "name": "stdout",
          "text": [
            "False\n"
          ]
        }
      ],
      "source": [
        "Y = np.random.randint(0,3,(3,10))\n",
        "print((~Y.any(axis=0)).any())"
      ]
    },
    {
      "cell_type": "markdown",
      "metadata": {
        "id": "QEDEXan-gaFU"
      },
      "source": [
        "#### 61. Find the nearest value from a given value in an array (★★☆) \n",
        "(**hint**: np.abs, argmin, flat)"
      ]
    },
    {
      "cell_type": "code",
      "execution_count": null,
      "metadata": {
        "id": "XXIVi3WkgaFU",
        "colab": {
          "base_uri": "https://localhost:8080/"
        },
        "outputId": "0aa99eda-7cbf-4042-d5b8-7c334884160a"
      },
      "outputs": [
        {
          "output_type": "stream",
          "name": "stdout",
          "text": [
            "0.5301609669363222\n"
          ]
        }
      ],
      "source": [
        "Z = np.random.uniform(0,1,10)\n",
        "z = 0.5\n",
        "m = Z.flat[np.abs(Z - z).argmin()]\n",
        "print(m)"
      ]
    },
    {
      "cell_type": "markdown",
      "metadata": {
        "id": "QJ5GtuhggaFU"
      },
      "source": [
        "#### 62. Considering two arrays with shape (1,3) and (3,1), how to compute their sum using an iterator? (★★☆) \n",
        "(**hint**: np.nditer)"
      ]
    },
    {
      "cell_type": "code",
      "execution_count": null,
      "metadata": {
        "id": "CYcmJ0GkgaFU",
        "colab": {
          "base_uri": "https://localhost:8080/"
        },
        "outputId": "c6c99892-ce4f-46f2-c476-fb1183240dd9"
      },
      "outputs": [
        {
          "output_type": "stream",
          "name": "stdout",
          "text": [
            "[[0 1 2]\n",
            " [1 2 3]\n",
            " [2 3 4]]\n"
          ]
        }
      ],
      "source": [
        "A = np.arange(3).reshape(3,1)\n",
        "B = np.arange(3).reshape(1,3)\n",
        "it = np.nditer([A,B,None])\n",
        "for x,y,z in it: z[...] = x + y\n",
        "print(it.operands[2])"
      ]
    },
    {
      "cell_type": "markdown",
      "metadata": {
        "id": "E--gIJNAgaFU"
      },
      "source": [
        "#### 63. Create an array class that has a name attribute (★★☆) \n",
        "(**hint**: class method)"
      ]
    },
    {
      "cell_type": "code",
      "execution_count": null,
      "metadata": {
        "id": "Ds5w4p8GgaFU",
        "colab": {
          "base_uri": "https://localhost:8080/"
        },
        "outputId": "032e8b55-042a-4cc6-b3cb-55cccdcf5aac"
      },
      "outputs": [
        {
          "output_type": "stream",
          "name": "stdout",
          "text": [
            "range_10\n"
          ]
        }
      ],
      "source": [
        "class NamedArray(np.ndarray):\n",
        "    def __new__(cls, array, name=\"no name\"):\n",
        "        obj = np.asarray(array).view(cls)\n",
        "        obj.name = name\n",
        "        return obj\n",
        "    def __array_finalize__(self, obj):\n",
        "        if obj is None: return\n",
        "        self.info = getattr(obj, 'name', \"no name\")\n",
        "\n",
        "Z = NamedArray(np.arange(10), \"range_10\")\n",
        "print (Z.name)"
      ]
    },
    {
      "cell_type": "markdown",
      "metadata": {
        "id": "sTvAw3kGgaFU"
      },
      "source": [
        "#### 64. Consider a given vector, how to add 1 to each element indexed by a second vector (be careful with repeated indices)? (★★★) \n",
        "(**hint**: np.bincount | np.add.at)"
      ]
    },
    {
      "cell_type": "code",
      "execution_count": null,
      "metadata": {
        "id": "s9UhXH0AgaFV",
        "colab": {
          "base_uri": "https://localhost:8080/"
        },
        "outputId": "6da5e929-f380-4684-b48f-3d3124f4be92"
      },
      "outputs": [
        {
          "output_type": "stream",
          "name": "stdout",
          "text": [
            "[3. 4. 1. 2. 5. 3. 4. 3. 1. 4.]\n",
            "[5. 7. 1. 3. 9. 5. 7. 5. 1. 7.]\n"
          ]
        }
      ],
      "source": [
        "Z = np.ones(10)\n",
        "I = np.random.randint(0,len(Z),20)\n",
        "Z += np.bincount(I, minlength=len(Z))\n",
        "print(Z)\n",
        "\n",
        "# Another solution\n",
        "np.add.at(Z, I, 1)\n",
        "print(Z)"
      ]
    },
    {
      "cell_type": "markdown",
      "metadata": {
        "id": "hVAZbhqXgaFV"
      },
      "source": [
        "#### 65. How to accumulate elements of a vector (X) to an array (F) based on an index list (I)? (★★★) \n",
        "(**hint**: np.bincount)"
      ]
    },
    {
      "cell_type": "code",
      "execution_count": null,
      "metadata": {
        "id": "-HCyld3KgaFV",
        "colab": {
          "base_uri": "https://localhost:8080/"
        },
        "outputId": "c87c8e6e-aa89-4c2e-c2ff-5232beb1cf47"
      },
      "outputs": [
        {
          "output_type": "stream",
          "name": "stdout",
          "text": [
            "[0. 7. 0. 6. 5. 0. 0. 0. 0. 3.]\n"
          ]
        }
      ],
      "source": [
        "X = [1,2,3,4,5,6]\n",
        "I = [1,3,9,3,4,1]\n",
        "F = np.bincount(I,X)\n",
        "print(F)"
      ]
    },
    {
      "cell_type": "markdown",
      "metadata": {
        "id": "kZAGJQCygaFV"
      },
      "source": [
        "#### 66. Considering a (w,h,3) image of (dtype=ubyte), compute the number of unique colors (★★★) \n",
        "(**hint**: np.unique)"
      ]
    },
    {
      "cell_type": "code",
      "execution_count": null,
      "metadata": {
        "id": "BtXt9nbJgaFV",
        "colab": {
          "base_uri": "https://localhost:8080/"
        },
        "outputId": "9983d0ee-93ab-4fff-e2c2-b03b19d1cd3a"
      },
      "outputs": [
        {
          "output_type": "stream",
          "name": "stdout",
          "text": [
            "[0 1]\n"
          ]
        }
      ],
      "source": [
        "w,h = 16,16\n",
        "I = np.random.randint(0,2,(h,w,3)).astype(np.ubyte)\n",
        "F = I[...,0]*256*256 + I[...,1]*256 +I[...,2]\n",
        "n = len(np.unique(F))\n",
        "print(np.unique(I))"
      ]
    },
    {
      "cell_type": "markdown",
      "metadata": {
        "id": "-et4nVjGgaFW"
      },
      "source": [
        "#### 67. Considering a four dimensions array, how to get sum over the last two axis at once? (★★★) \n",
        "(**hint**: sum(axis=(-2,-1)))"
      ]
    },
    {
      "cell_type": "code",
      "source": [
        "A = np.random.randint(0,10,(3,4,3,4))\n",
        "# solution by passing a tuple of axes (introduced in numpy 1.7.0)\n",
        "sum = A.sum(axis=(-2,-1))\n",
        "print(sum)\n",
        "# solution by flattening the last two dimensions into one\n",
        "# (useful for functions that don't accept tuples for axis argument)\n",
        "sum = A.reshape(A.shape[:-2] + (-1,)).sum(axis=-1)\n",
        "print(sum)\n"
      ],
      "metadata": {
        "colab": {
          "base_uri": "https://localhost:8080/"
        },
        "id": "ho6OxhtI4CpQ",
        "outputId": "bd6b2415-637f-4d8a-c474-d24286a7b349"
      },
      "execution_count": null,
      "outputs": [
        {
          "output_type": "stream",
          "name": "stdout",
          "text": [
            "[[60 62 34 38]\n",
            " [52 58 42 68]\n",
            " [57 53 47 43]]\n",
            "[[60 62 34 38]\n",
            " [52 58 42 68]\n",
            " [57 53 47 43]]\n"
          ]
        }
      ]
    },
    {
      "cell_type": "markdown",
      "metadata": {
        "id": "lqQ3BSw-gaFW"
      },
      "source": [
        "#### 68. Considering a one-dimensional vector D, how to compute means of subsets of D using a vector S of same size describing subset  indices? (★★★) \n",
        "(**hint**: np.bincount)"
      ]
    },
    {
      "cell_type": "code",
      "execution_count": null,
      "metadata": {
        "id": "wqoGIrUZgaFW",
        "colab": {
          "base_uri": "https://localhost:8080/"
        },
        "outputId": "bf87933e-4267-47b7-80b7-37188fc1f351"
      },
      "outputs": [
        {
          "output_type": "stream",
          "name": "stdout",
          "text": [
            "[0.40326798 0.50005139 0.61421309 0.44655188 0.54592281 0.53206106\n",
            " 0.50795137 0.4081841  0.48975252 0.47055464]\n"
          ]
        }
      ],
      "source": [
        "D = np.random.uniform(0,1,100)\n",
        "S = np.random.randint(0,10,100)\n",
        "D_sums = np.bincount(S, weights=D)\n",
        "D_counts = np.bincount(S)\n",
        "D_means = D_sums / D_counts\n",
        "print(D_means)"
      ]
    },
    {
      "cell_type": "markdown",
      "metadata": {
        "id": "3HgnkM2lgaFW"
      },
      "source": [
        "#### 69. How to get the diagonal of a dot product? (★★★) \n",
        "(**hint**: np.diag)"
      ]
    },
    {
      "cell_type": "code",
      "source": [
        "A = np.random.uniform(0,1,(5,5))\n",
        "B = np.random.uniform(0,1,(5,5))\n",
        " \n",
        "np.diag(np.dot(A, B))"
      ],
      "metadata": {
        "colab": {
          "base_uri": "https://localhost:8080/"
        },
        "id": "bs7iOu9k4NN-",
        "outputId": "90fb95ef-3232-4cd7-e135-2c90026a51f7"
      },
      "execution_count": null,
      "outputs": [
        {
          "output_type": "execute_result",
          "data": {
            "text/plain": [
              "array([2.07456852, 1.00661844, 2.42067262, 0.14278405, 2.19441692])"
            ]
          },
          "metadata": {},
          "execution_count": 149
        }
      ]
    },
    {
      "cell_type": "markdown",
      "metadata": {
        "id": "47VIq1a_gaFX"
      },
      "source": [
        "#### 70. Consider the vector \\[1, 2, 3, 4, 5\\], how to build a new vector with 3 consecutive zeros interleaved between each value? (★★★) \n",
        "(**hint**: array\\[::4\\])"
      ]
    },
    {
      "cell_type": "code",
      "execution_count": null,
      "metadata": {
        "id": "oPr7xXsxgaFX",
        "colab": {
          "base_uri": "https://localhost:8080/"
        },
        "outputId": "0dc77362-0aea-48f4-c116-a8d897092470"
      },
      "outputs": [
        {
          "output_type": "stream",
          "name": "stdout",
          "text": [
            "[1. 0. 0. 0. 2. 0. 0. 0. 3. 0. 0. 0. 4. 0. 0. 0. 5.]\n"
          ]
        }
      ],
      "source": [
        "Z = np.array([1,2,3,4,5])\n",
        "nz = 3\n",
        "Z0 = np.zeros(len(Z) + (len(Z)-1)*(nz))\n",
        "Z0[::nz+1] = Z\n",
        "print(Z0)"
      ]
    },
    {
      "cell_type": "markdown",
      "metadata": {
        "id": "7WUTCwqXgaFX"
      },
      "source": [
        "#### 71. Consider an array of dimension (5,5,3), how to mulitply it by an array with dimensions (5,5)? (★★★) \n",
        "(**hint**: array\\[:, :, None\\])"
      ]
    },
    {
      "cell_type": "code",
      "execution_count": null,
      "metadata": {
        "collapsed": true,
        "id": "zBXRvuhjgaFX",
        "colab": {
          "base_uri": "https://localhost:8080/"
        },
        "outputId": "3d58c566-a0c8-4057-cdfb-c5111b03119d"
      },
      "outputs": [
        {
          "output_type": "stream",
          "name": "stdout",
          "text": [
            "[[[2. 2. 2.]\n",
            "  [2. 2. 2.]\n",
            "  [2. 2. 2.]\n",
            "  [2. 2. 2.]\n",
            "  [2. 2. 2.]]\n",
            "\n",
            " [[2. 2. 2.]\n",
            "  [2. 2. 2.]\n",
            "  [2. 2. 2.]\n",
            "  [2. 2. 2.]\n",
            "  [2. 2. 2.]]\n",
            "\n",
            " [[2. 2. 2.]\n",
            "  [2. 2. 2.]\n",
            "  [2. 2. 2.]\n",
            "  [2. 2. 2.]\n",
            "  [2. 2. 2.]]\n",
            "\n",
            " [[2. 2. 2.]\n",
            "  [2. 2. 2.]\n",
            "  [2. 2. 2.]\n",
            "  [2. 2. 2.]\n",
            "  [2. 2. 2.]]\n",
            "\n",
            " [[2. 2. 2.]\n",
            "  [2. 2. 2.]\n",
            "  [2. 2. 2.]\n",
            "  [2. 2. 2.]\n",
            "  [2. 2. 2.]]]\n"
          ]
        }
      ],
      "source": [
        "A = np.ones((5,5,3))\n",
        "B = 2*np.ones((5,5))\n",
        "print(A * B[:,:,None])"
      ]
    },
    {
      "cell_type": "markdown",
      "metadata": {
        "id": "dCqlD5osgaFX"
      },
      "source": [
        "#### 72. How to swap two rows of an array? (★★★) \n",
        "(**hint**: array\\[\\[\\]\\] = array\\[\\[\\]\\])"
      ]
    },
    {
      "cell_type": "code",
      "execution_count": null,
      "metadata": {
        "id": "Q2qVssDSgaFY",
        "colab": {
          "base_uri": "https://localhost:8080/"
        },
        "outputId": "cb66ee73-3e1d-4c9a-98af-312f6540d666"
      },
      "outputs": [
        {
          "output_type": "stream",
          "name": "stdout",
          "text": [
            "[[ 5  6  7  8  9]\n",
            " [ 0  1  2  3  4]\n",
            " [10 11 12 13 14]\n",
            " [15 16 17 18 19]\n",
            " [20 21 22 23 24]]\n"
          ]
        }
      ],
      "source": [
        "A = np.arange(25).reshape(5,5)\n",
        "A[[0,1]] = A[[1,0]]\n",
        "print(A)"
      ]
    },
    {
      "cell_type": "markdown",
      "metadata": {
        "id": "YgpxS24fgaFY"
      },
      "source": [
        "#### 73. Consider a set of 10 triplets describing 10 triangles (with shared vertices), find the set of unique line segments composing all the  triangles (★★★) \n",
        "(**hint**: repeat, np.roll, np.sort, view, np.unique)"
      ]
    },
    {
      "cell_type": "code",
      "execution_count": null,
      "metadata": {
        "id": "qcLvByqxgaFY",
        "colab": {
          "base_uri": "https://localhost:8080/"
        },
        "outputId": "03331f69-1cf9-449d-be32-8e205060f577"
      },
      "outputs": [
        {
          "output_type": "stream",
          "name": "stdout",
          "text": [
            "[( 7, 37) ( 7, 88) ( 9, 87) ( 9, 97) (14, 37) (14, 48) (19, 53) (19, 94)\n",
            " (20, 50) (20, 60) (30, 33) (30, 71) (33, 71) (34, 39) (34, 83) (35, 83)\n",
            " (35, 88) (36, 56) (36, 59) (37, 48) (37, 88) (38, 62) (38, 79) (39, 83)\n",
            " (50, 60) (53, 94) (56, 59) (62, 79) (83, 88) (87, 97)]\n"
          ]
        }
      ],
      "source": [
        "import numpy as np\n",
        "faces = np.random.randint(0,100,(10,3))\n",
        "F = np.roll(faces.repeat(2,axis=1),-1,axis=1)\n",
        "F = F.reshape(len(F)*3,2)\n",
        "F = np.sort(F,axis=1)\n",
        "G = F.view( dtype=[('p0',F.dtype),('p1',F.dtype)] )\n",
        "G = np.unique(G)\n",
        "print(G)"
      ]
    },
    {
      "cell_type": "markdown",
      "metadata": {
        "id": "SZjpfsQ_gaFY"
      },
      "source": [
        "#### 74. Given an array C that is a bincount, how to produce an array A such that np.bincount(A) == C? (★★★) \n",
        "(**hint**: np.repeat)"
      ]
    },
    {
      "cell_type": "code",
      "execution_count": null,
      "metadata": {
        "id": "Xh9rLfMLgaFZ",
        "colab": {
          "base_uri": "https://localhost:8080/"
        },
        "outputId": "d2e23284-868d-4290-e66d-2a915c32bca5"
      },
      "outputs": [
        {
          "output_type": "stream",
          "name": "stdout",
          "text": [
            "[1 1 2 3 4 4 6]\n"
          ]
        }
      ],
      "source": [
        "import numpy as np\n",
        "C = np.bincount([1,1,2,3,4,4,6])\n",
        "A = np.repeat(np.arange(len(C)), C)\n",
        "print(A)"
      ]
    },
    {
      "cell_type": "markdown",
      "metadata": {
        "id": "znjMDojpgaFZ"
      },
      "source": [
        "#### 75. How to compute averages using a sliding window over an array? (★★★) \n",
        "(**hint**: np.cumsum)"
      ]
    },
    {
      "cell_type": "code",
      "execution_count": null,
      "metadata": {
        "id": "pyit3J7MgaFZ",
        "colab": {
          "base_uri": "https://localhost:8080/"
        },
        "outputId": "34b7edde-cb9d-4bf8-b1d8-1f3ba31caa4d"
      },
      "outputs": [
        {
          "output_type": "stream",
          "name": "stdout",
          "text": [
            "[ 1.  2.  3.  4.  5.  6.  7.  8.  9. 10. 11. 12. 13. 14. 15. 16. 17. 18.]\n"
          ]
        }
      ],
      "source": [
        "import numpy as np\n",
        "def moving_average(a, n=3) :\n",
        "    ret = np.cumsum(a, dtype=float)\n",
        "    ret[n:] = ret[n:] - ret[:-n]\n",
        "    return ret[n - 1:] / n\n",
        "Z = np.arange(20)\n",
        "print(moving_average(Z, n=3))"
      ]
    },
    {
      "cell_type": "markdown",
      "metadata": {
        "id": "1bVMQHhmgaFZ"
      },
      "source": [
        "#### 76. Consider a one-dimensional array Z, build a two-dimensional array whose first row is (Z\\[0\\],Z\\[1\\],Z\\[2\\]) and each subsequent row is  shifted by 1 (last row should be (Z\\[-3\\],Z\\[-2\\],Z\\[-1\\]) (★★★) \n",
        "(**hint**: from numpy.lib import stride_tricks)"
      ]
    },
    {
      "cell_type": "code",
      "execution_count": 71,
      "metadata": {
        "id": "BMo9yJeGgaFZ",
        "colab": {
          "base_uri": "https://localhost:8080/"
        },
        "outputId": "7756ffbb-2bdf-492c-8efb-376328cd3c6f"
      },
      "outputs": [
        {
          "output_type": "stream",
          "name": "stdout",
          "text": [
            "[[0 1 2]\n",
            " [1 2 3]\n",
            " [2 3 4]\n",
            " [3 4 5]\n",
            " [4 5 6]\n",
            " [5 6 7]\n",
            " [6 7 8]\n",
            " [7 8 9]]\n"
          ]
        }
      ],
      "source": [
        "from numpy.lib import stride_tricks\n",
        "\n",
        "def rolling(a, window):\n",
        "    shape = (a.size - window + 1, window)\n",
        "    strides = (a.itemsize, a.itemsize)\n",
        "    return stride_tricks.as_strided(a, shape=shape, strides=strides)\n",
        "arr = rolling(np.arange(10), 3)\n",
        "\n",
        "print(arr)"
      ]
    },
    {
      "cell_type": "markdown",
      "metadata": {
        "id": "wPzcoKd9gaFZ"
      },
      "source": [
        "#### 77. How to negate a boolean, or to change the sign of a float inplace? (★★★) \n",
        "(**hint**: np.logical_not, np.negative)"
      ]
    },
    {
      "cell_type": "code",
      "execution_count": null,
      "metadata": {
        "id": "80jOiugUgaFa",
        "colab": {
          "base_uri": "https://localhost:8080/"
        },
        "outputId": "00501028-9dae-481f-934f-0925516c2668"
      },
      "outputs": [
        {
          "output_type": "execute_result",
          "data": {
            "text/plain": [
              "array([-0.61305105,  0.74118126,  0.77405407, -0.50994508,  0.78316382,\n",
              "        0.32582538, -0.3683909 ,  0.00886682,  0.36073585, -0.66047605,\n",
              "       -0.19019332, -0.1951481 ,  0.8391333 , -0.35228568, -0.97696639,\n",
              "       -0.9952784 ,  0.00276679, -0.35885348,  0.58504466, -0.4881087 ,\n",
              "       -0.79006871,  0.35193037, -0.50290114,  0.819034  ,  0.29315483,\n",
              "        0.44077487, -0.99725396,  0.89660585, -0.90596273,  0.32660949,\n",
              "        0.53245669,  0.25838609, -0.60894507, -0.07922914,  0.64709426,\n",
              "        0.15818269,  0.87446845,  0.77564218,  0.38126   , -0.83248277,\n",
              "        0.02359047, -0.38025275, -0.05216296, -0.2148871 ,  0.4183955 ,\n",
              "        0.14280614, -0.85122793, -0.06125288,  0.88918061, -0.29733552,\n",
              "        0.46655129,  0.7515145 ,  0.05281269, -0.82438303,  0.23503463,\n",
              "        0.09948214,  0.82634318,  0.98909809,  0.43223851, -0.68465042,\n",
              "       -0.79737212, -0.86042058,  0.90265916,  0.62911813, -0.88569167,\n",
              "       -0.3572821 , -0.61998535, -0.1101646 , -0.23115608,  0.13539738,\n",
              "        0.50524105, -0.71816401,  0.71370167,  0.1360657 ,  0.59569345,\n",
              "        0.68463181, -0.47100086, -0.07939318,  0.14213853, -0.45542436,\n",
              "        0.42514298,  0.29060569, -0.84805288, -0.56251853, -0.4994118 ,\n",
              "       -0.6984154 , -0.65941637, -0.66740261,  0.71815916, -0.59618417,\n",
              "        0.3209745 ,  0.06796027, -0.95828129,  0.04790971,  0.82671841,\n",
              "       -0.11403871, -0.75067054, -0.49220398,  0.60074649, -0.41405846])"
            ]
          },
          "metadata": {},
          "execution_count": 29
        }
      ],
      "source": [
        "import numpy as np\n",
        "Z = np.random.randint(0,2,100)\n",
        "np.logical_not(Z, out=Z)\n",
        "\n",
        "Z = np.random.uniform(-1.0,1.0,100)\n",
        "np.negative(Z, out=Z)"
      ]
    },
    {
      "cell_type": "markdown",
      "metadata": {
        "id": "WwTrno-VgaFa"
      },
      "source": [
        "#### 78. Consider 2 sets of points P0,P1 describing lines (2d) and a point p, how to compute distance from p to each line i  (P0\\[i\\],P1\\[i\\])? (★★★)"
      ]
    },
    {
      "cell_type": "code",
      "execution_count": null,
      "metadata": {
        "id": "zWbnHOTggaFa",
        "colab": {
          "base_uri": "https://localhost:8080/"
        },
        "outputId": "34cc4e73-5ce2-44d5-8393-1487155dc2ba"
      },
      "outputs": [
        {
          "output_type": "stream",
          "name": "stdout",
          "text": [
            "[ 2.62779379  3.17182337  3.23247309  3.92885539  0.0139656   2.10236538\n",
            "  7.042434    5.28164878 11.59069961  6.1121228 ]\n"
          ]
        }
      ],
      "source": [
        "import numpy as np\n",
        "def distance(P0, P1, p):\n",
        "    T = P1 - P0\n",
        "    L = (T**2).sum(axis=1)\n",
        "    U = -((P0[:,0]-p[...,0])*T[:,0] + (P0[:,1]-p[...,1])*T[:,1]) / L\n",
        "    U = U.reshape(len(U),1)\n",
        "    D = P0 + U*T - p\n",
        "    return np.sqrt((D**2).sum(axis=1))\n",
        "\n",
        "P0 = np.random.uniform(-10,10,(10,2))\n",
        "P1 = np.random.uniform(-10,10,(10,2))\n",
        "p  = np.random.uniform(-10,10,( 1,2))\n",
        "print(distance(P0, P1, p))"
      ]
    },
    {
      "cell_type": "markdown",
      "metadata": {
        "id": "U4Zl5q0pgaFa"
      },
      "source": [
        "#### 79. Consider 2 sets of points P0,P1 describing lines (2d) and a set of points P, how to compute distance from each point j (P\\[j\\]) to each line i (P0\\[i\\],P1\\[i\\])? (★★★)"
      ]
    },
    {
      "cell_type": "code",
      "execution_count": null,
      "metadata": {
        "id": "Kg0EzC-dgaFa",
        "colab": {
          "base_uri": "https://localhost:8080/"
        },
        "outputId": "c06d2139-2379-4450-e760-373b49ebf215"
      },
      "outputs": [
        {
          "output_type": "stream",
          "name": "stdout",
          "text": [
            "[[17.82359193  6.61084818 12.83003489  2.70672364 11.36617945  1.45883711\n",
            "   4.9668117   8.90743335  3.95152688  8.24414616]\n",
            " [11.35097083 12.11275197  5.61111656  3.14170103  3.12131947  9.54816468\n",
            "   3.49522039  8.03871185  1.15520019  0.18262266]\n",
            " [ 8.34096391  1.5066037   4.23437551  7.27749131  9.81714882  8.15921526\n",
            "   0.99819202  1.51137785  6.84702869  3.42381628]\n",
            " [11.96281995  6.48018459  7.06256319  2.51359895  7.98998187  6.78320121\n",
            "   0.57789042  4.56897434  1.18310015  3.53633334]\n",
            " [13.14043538  2.96021268  8.75487708  6.09167744 11.50486456  4.32588419\n",
            "   3.73019432  2.97699433  1.95668449  6.50936848]\n",
            " [11.51068911 10.84400678  5.95968042  1.86662644  4.23099915  8.90526702\n",
            "   2.561034    7.27301878  0.64743068  0.67294777]\n",
            " [10.66017147  7.54068503  5.61675639  1.38326766  6.36808368  8.39291486\n",
            "   1.09518302  4.36163531  1.76969302  1.86714632]\n",
            " [ 6.00591048 15.88085318  0.2336003   7.19747773  3.06707703 15.92493505\n",
            "   9.98672127  6.78266031  1.54870205  6.69820797]\n",
            " [18.45803722 10.41973974 12.88355072  1.05967688  8.69638274  2.36717767\n",
            "   3.01238254 12.01345603  6.43917455  6.58463576]\n",
            " [13.06896825  2.74515198  8.71665875  6.30237129 11.63443947  4.30728985\n",
            "   3.81334515  2.77578565  2.12796774  6.57398244]]\n"
          ]
        }
      ],
      "source": [
        "import numpy as np\n",
        "P0 = np.random.uniform(-10, 10, (10,2))\n",
        "P1 = np.random.uniform(-10,10,(10,2))\n",
        "p = np.random.uniform(-10, 10, (10,2))\n",
        "print(np.array([distance(P0,P1,p_i) for p_i in p]))"
      ]
    },
    {
      "cell_type": "markdown",
      "metadata": {
        "id": "OyFXqjZzgaFa"
      },
      "source": [
        "#### 80. Consider an arbitrary array, write a function that extract a subpart with a fixed shape and centered on a given element (pad with a `fill` value when necessary) (★★★) \n",
        "(**hint**: minimum, maximum)"
      ]
    },
    {
      "cell_type": "code",
      "execution_count": null,
      "metadata": {
        "id": "vij6WtVKgaFb",
        "colab": {
          "base_uri": "https://localhost:8080/"
        },
        "outputId": "751d87a1-16d6-49a3-875a-783f9bdc45f8"
      },
      "outputs": [
        {
          "output_type": "stream",
          "name": "stdout",
          "text": [
            "[[4 0 5 7 0 1 1 8 7 8]\n",
            " [1 1 2 4 0 3 8 5 9 8]\n",
            " [8 5 4 5 3 7 5 8 5 2]\n",
            " [0 4 8 7 8 3 9 5 8 4]\n",
            " [3 3 8 7 3 1 8 3 9 0]\n",
            " [1 7 4 1 2 6 8 6 4 7]\n",
            " [0 9 1 7 0 9 3 6 5 3]\n",
            " [9 1 6 4 2 7 6 6 0 7]\n",
            " [5 2 7 7 1 9 7 3 7 6]\n",
            " [7 3 0 6 4 8 6 1 5 9]]\n",
            "[[0 0 0 0 0]\n",
            " [0 4 0 5 7]\n",
            " [0 1 1 2 4]\n",
            " [0 8 5 4 5]\n",
            " [0 0 4 8 7]]\n"
          ]
        },
        {
          "output_type": "stream",
          "name": "stderr",
          "text": [
            "/usr/local/lib/python3.7/dist-packages/ipykernel_launcher.py:24: FutureWarning: Using a non-tuple sequence for multidimensional indexing is deprecated; use `arr[tuple(seq)]` instead of `arr[seq]`. In the future this will be interpreted as an array index, `arr[np.array(seq)]`, which will result either in an error or a different result.\n"
          ]
        }
      ],
      "source": [
        "import numpy as np\n",
        "Z = np.random.randint(0,10,(10,10))\n",
        "shape = (5,5)\n",
        "fill  = 0\n",
        "position = (1,1)\n",
        "\n",
        "R = np.ones(shape, dtype=Z.dtype)*fill\n",
        "P  = np.array(list(position)).astype(int)\n",
        "Rs = np.array(list(R.shape)).astype(int)\n",
        "Zs = np.array(list(Z.shape)).astype(int)\n",
        "\n",
        "R_start = np.zeros((len(shape),)).astype(int)\n",
        "R_stop  = np.array(list(shape)).astype(int)\n",
        "Z_start = (P-Rs//2)\n",
        "Z_stop  = (P+Rs//2)+Rs%2\n",
        "\n",
        "R_start = (R_start - np.minimum(Z_start,0)).tolist()\n",
        "Z_start = (np.maximum(Z_start,0)).tolist()\n",
        "R_stop = np.maximum(R_start, (R_stop - np.maximum(Z_stop-Zs,0))).tolist()\n",
        "Z_stop = (np.minimum(Z_stop,Zs)).tolist()\n",
        "\n",
        "r = [slice(start,stop) for start,stop in zip(R_start,R_stop)]\n",
        "z = [slice(start,stop) for start,stop in zip(Z_start,Z_stop)]\n",
        "R[r] = Z[z]\n",
        "print(Z)\n",
        "print(R)"
      ]
    },
    {
      "cell_type": "markdown",
      "metadata": {
        "id": "_RYqjj-2gaFb"
      },
      "source": [
        "#### 81. Consider an array Z = \\[1,2,3,4,5,6,7,8,9,10,11,12,13,14\\], how to generate an array R = \\[\\[1,2,3,4\\], \\[2,3,4,5\\], \\[3,4,5,6\\], ..., \\[11,12,13,14\\]\\]? (★★★) \n",
        "(**hint**: stride\\_tricks.as\\_strided)"
      ]
    },
    {
      "cell_type": "code",
      "execution_count": null,
      "metadata": {
        "id": "OwKUY88DgaFb",
        "colab": {
          "base_uri": "https://localhost:8080/"
        },
        "outputId": "8a4bd5ab-4bdc-480c-b363-56a8a87e5336"
      },
      "outputs": [
        {
          "output_type": "stream",
          "name": "stdout",
          "text": [
            "[[ 1  2  3  4]\n",
            " [ 2  3  4  5]\n",
            " [ 3  4  5  6]\n",
            " [ 4  5  6  7]\n",
            " [ 5  6  7  8]\n",
            " [ 6  7  8  9]\n",
            " [ 7  8  9 10]\n",
            " [ 8  9 10 11]\n",
            " [ 9 10 11 12]\n",
            " [10 11 12 13]\n",
            " [11 12 13 14]]\n"
          ]
        }
      ],
      "source": [
        "import numpy as np\n",
        "Z = np.arange(1,15,dtype=np.uint32)\n",
        "R = stride_tricks.as_strided(Z,(11,4),(4,4))\n",
        "print(R)"
      ]
    },
    {
      "cell_type": "markdown",
      "metadata": {
        "id": "Ea3xywZ4gaFb"
      },
      "source": [
        "#### 82. Compute a matrix rank (★★★) \n",
        "(**hint**: np.linalg.svd) (suggestion: np.linalg.svd)"
      ]
    },
    {
      "cell_type": "code",
      "execution_count": null,
      "metadata": {
        "id": "Jp5tUL0ggaFb",
        "colab": {
          "base_uri": "https://localhost:8080/"
        },
        "outputId": "f4af4c85-ca5b-4aba-f5cc-e37f4a7c2cae"
      },
      "outputs": [
        {
          "output_type": "stream",
          "name": "stdout",
          "text": [
            "10\n"
          ]
        }
      ],
      "source": [
        "import numpy as np\n",
        "Z = np.random.uniform(0,1,(10,10))\n",
        "U, S, V = np.linalg.svd(Z) # Singular Value Decomposition\n",
        "rank = np.sum(S > 1e-10)\n",
        "print(rank)"
      ]
    },
    {
      "cell_type": "markdown",
      "metadata": {
        "id": "Ipw_wHyMgaFc"
      },
      "source": [
        "#### 83. How to find the most frequent value in an array? \n",
        "(**hint**: np.bincount, argmax)"
      ]
    },
    {
      "cell_type": "code",
      "execution_count": null,
      "metadata": {
        "id": "Uy_46LWpgaFc",
        "colab": {
          "base_uri": "https://localhost:8080/"
        },
        "outputId": "3c21f430-cf72-49fd-999f-c414d5777b8b"
      },
      "outputs": [
        {
          "output_type": "stream",
          "name": "stdout",
          "text": [
            "1\n"
          ]
        }
      ],
      "source": [
        "import numpy as np\n",
        "Z = np.random.randint(0,10,50)\n",
        "print(np.bincount(Z).argmax())"
      ]
    },
    {
      "cell_type": "markdown",
      "metadata": {
        "id": "J6oSj6i_gaFc"
      },
      "source": [
        "#### 84. Extract all the contiguous 3x3 blocks from a random 10x10 matrix (★★★) \n",
        "(**hint**: stride\\_tricks.as\\_strided)"
      ]
    },
    {
      "cell_type": "code",
      "execution_count": null,
      "metadata": {
        "id": "h_uWp6lcgaFc",
        "colab": {
          "base_uri": "https://localhost:8080/"
        },
        "outputId": "853faae5-7c15-45dc-a49e-efb691f92f50"
      },
      "outputs": [
        {
          "output_type": "stream",
          "name": "stdout",
          "text": [
            "[[[[2 0 1]\n",
            "   [2 2 4]\n",
            "   [4 4 3]]\n",
            "\n",
            "  [[0 1 4]\n",
            "   [2 4 3]\n",
            "   [4 3 3]]\n",
            "\n",
            "  [[1 4 1]\n",
            "   [4 3 3]\n",
            "   [3 3 4]]\n",
            "\n",
            "  [[4 1 0]\n",
            "   [3 3 2]\n",
            "   [3 4 0]]\n",
            "\n",
            "  [[1 0 2]\n",
            "   [3 2 3]\n",
            "   [4 0 3]]\n",
            "\n",
            "  [[0 2 2]\n",
            "   [2 3 3]\n",
            "   [0 3 0]]\n",
            "\n",
            "  [[2 2 3]\n",
            "   [3 3 1]\n",
            "   [3 0 2]]\n",
            "\n",
            "  [[2 3 3]\n",
            "   [3 1 3]\n",
            "   [0 2 0]]]\n",
            "\n",
            "\n",
            " [[[2 2 4]\n",
            "   [4 4 3]\n",
            "   [3 0 2]]\n",
            "\n",
            "  [[2 4 3]\n",
            "   [4 3 3]\n",
            "   [0 2 0]]\n",
            "\n",
            "  [[4 3 3]\n",
            "   [3 3 4]\n",
            "   [2 0 3]]\n",
            "\n",
            "  [[3 3 2]\n",
            "   [3 4 0]\n",
            "   [0 3 4]]\n",
            "\n",
            "  [[3 2 3]\n",
            "   [4 0 3]\n",
            "   [3 4 0]]\n",
            "\n",
            "  [[2 3 3]\n",
            "   [0 3 0]\n",
            "   [4 0 2]]\n",
            "\n",
            "  [[3 3 1]\n",
            "   [3 0 2]\n",
            "   [0 2 3]]\n",
            "\n",
            "  [[3 1 3]\n",
            "   [0 2 0]\n",
            "   [2 3 2]]]\n",
            "\n",
            "\n",
            " [[[4 4 3]\n",
            "   [3 0 2]\n",
            "   [1 3 4]]\n",
            "\n",
            "  [[4 3 3]\n",
            "   [0 2 0]\n",
            "   [3 4 1]]\n",
            "\n",
            "  [[3 3 4]\n",
            "   [2 0 3]\n",
            "   [4 1 4]]\n",
            "\n",
            "  [[3 4 0]\n",
            "   [0 3 4]\n",
            "   [1 4 2]]\n",
            "\n",
            "  [[4 0 3]\n",
            "   [3 4 0]\n",
            "   [4 2 4]]\n",
            "\n",
            "  [[0 3 0]\n",
            "   [4 0 2]\n",
            "   [2 4 0]]\n",
            "\n",
            "  [[3 0 2]\n",
            "   [0 2 3]\n",
            "   [4 0 3]]\n",
            "\n",
            "  [[0 2 0]\n",
            "   [2 3 2]\n",
            "   [0 3 3]]]\n",
            "\n",
            "\n",
            " [[[3 0 2]\n",
            "   [1 3 4]\n",
            "   [3 3 2]]\n",
            "\n",
            "  [[0 2 0]\n",
            "   [3 4 1]\n",
            "   [3 2 3]]\n",
            "\n",
            "  [[2 0 3]\n",
            "   [4 1 4]\n",
            "   [2 3 3]]\n",
            "\n",
            "  [[0 3 4]\n",
            "   [1 4 2]\n",
            "   [3 3 3]]\n",
            "\n",
            "  [[3 4 0]\n",
            "   [4 2 4]\n",
            "   [3 3 3]]\n",
            "\n",
            "  [[4 0 2]\n",
            "   [2 4 0]\n",
            "   [3 3 4]]\n",
            "\n",
            "  [[0 2 3]\n",
            "   [4 0 3]\n",
            "   [3 4 0]]\n",
            "\n",
            "  [[2 3 2]\n",
            "   [0 3 3]\n",
            "   [4 0 1]]]\n",
            "\n",
            "\n",
            " [[[1 3 4]\n",
            "   [3 3 2]\n",
            "   [0 2 3]]\n",
            "\n",
            "  [[3 4 1]\n",
            "   [3 2 3]\n",
            "   [2 3 1]]\n",
            "\n",
            "  [[4 1 4]\n",
            "   [2 3 3]\n",
            "   [3 1 0]]\n",
            "\n",
            "  [[1 4 2]\n",
            "   [3 3 3]\n",
            "   [1 0 1]]\n",
            "\n",
            "  [[4 2 4]\n",
            "   [3 3 3]\n",
            "   [0 1 2]]\n",
            "\n",
            "  [[2 4 0]\n",
            "   [3 3 4]\n",
            "   [1 2 0]]\n",
            "\n",
            "  [[4 0 3]\n",
            "   [3 4 0]\n",
            "   [2 0 3]]\n",
            "\n",
            "  [[0 3 3]\n",
            "   [4 0 1]\n",
            "   [0 3 4]]]\n",
            "\n",
            "\n",
            " [[[3 3 2]\n",
            "   [0 2 3]\n",
            "   [3 1 0]]\n",
            "\n",
            "  [[3 2 3]\n",
            "   [2 3 1]\n",
            "   [1 0 1]]\n",
            "\n",
            "  [[2 3 3]\n",
            "   [3 1 0]\n",
            "   [0 1 4]]\n",
            "\n",
            "  [[3 3 3]\n",
            "   [1 0 1]\n",
            "   [1 4 3]]\n",
            "\n",
            "  [[3 3 3]\n",
            "   [0 1 2]\n",
            "   [4 3 2]]\n",
            "\n",
            "  [[3 3 4]\n",
            "   [1 2 0]\n",
            "   [3 2 1]]\n",
            "\n",
            "  [[3 4 0]\n",
            "   [2 0 3]\n",
            "   [2 1 2]]\n",
            "\n",
            "  [[4 0 1]\n",
            "   [0 3 4]\n",
            "   [1 2 1]]]\n",
            "\n",
            "\n",
            " [[[0 2 3]\n",
            "   [3 1 0]\n",
            "   [0 2 4]]\n",
            "\n",
            "  [[2 3 1]\n",
            "   [1 0 1]\n",
            "   [2 4 2]]\n",
            "\n",
            "  [[3 1 0]\n",
            "   [0 1 4]\n",
            "   [4 2 4]]\n",
            "\n",
            "  [[1 0 1]\n",
            "   [1 4 3]\n",
            "   [2 4 2]]\n",
            "\n",
            "  [[0 1 2]\n",
            "   [4 3 2]\n",
            "   [4 2 1]]\n",
            "\n",
            "  [[1 2 0]\n",
            "   [3 2 1]\n",
            "   [2 1 4]]\n",
            "\n",
            "  [[2 0 3]\n",
            "   [2 1 2]\n",
            "   [1 4 1]]\n",
            "\n",
            "  [[0 3 4]\n",
            "   [1 2 1]\n",
            "   [4 1 3]]]\n",
            "\n",
            "\n",
            " [[[3 1 0]\n",
            "   [0 2 4]\n",
            "   [3 4 3]]\n",
            "\n",
            "  [[1 0 1]\n",
            "   [2 4 2]\n",
            "   [4 3 1]]\n",
            "\n",
            "  [[0 1 4]\n",
            "   [4 2 4]\n",
            "   [3 1 0]]\n",
            "\n",
            "  [[1 4 3]\n",
            "   [2 4 2]\n",
            "   [1 0 3]]\n",
            "\n",
            "  [[4 3 2]\n",
            "   [4 2 1]\n",
            "   [0 3 4]]\n",
            "\n",
            "  [[3 2 1]\n",
            "   [2 1 4]\n",
            "   [3 4 0]]\n",
            "\n",
            "  [[2 1 2]\n",
            "   [1 4 1]\n",
            "   [4 0 3]]\n",
            "\n",
            "  [[1 2 1]\n",
            "   [4 1 3]\n",
            "   [0 3 1]]]]\n"
          ]
        }
      ],
      "source": [
        "import numpy as np\n",
        "Z = np.random.randint(0,5,(10,10))\n",
        "n = 3\n",
        "i = 1 + (Z.shape[0]-3)\n",
        "j = 1 + (Z.shape[1]-3)\n",
        "C = stride_tricks.as_strided(Z, shape=(i, j, n, n), strides=Z.strides + Z.strides)\n",
        "print(C)"
      ]
    },
    {
      "cell_type": "markdown",
      "metadata": {
        "id": "WePOXNuKgaFc"
      },
      "source": [
        "#### 85. Create a 2D array subclass such that Z\\[i,j\\] == Z\\[j,i\\] (★★★) \n",
        "(**hint**: class method)"
      ]
    },
    {
      "cell_type": "code",
      "execution_count": null,
      "metadata": {
        "id": "lCjOalV8gaFc",
        "colab": {
          "base_uri": "https://localhost:8080/"
        },
        "outputId": "8b586567-0bbe-461f-935c-79769691287f"
      },
      "outputs": [
        {
          "output_type": "stream",
          "name": "stdout",
          "text": [
            "[[ 6  4  5  5  8]\n",
            " [ 4  8 11  4  3]\n",
            " [ 5 11  1 42 13]\n",
            " [ 5  4 42  5  9]\n",
            " [ 8  3 13  9  1]]\n"
          ]
        }
      ],
      "source": [
        "import numpy as np\n",
        "\n",
        "class Symetric(np.ndarray):\n",
        "    def __setitem__(self, index, value):\n",
        "        i,j = index\n",
        "        super(Symetric, self).__setitem__((i,j), value)\n",
        "        super(Symetric, self).__setitem__((j,i), value)\n",
        "\n",
        "def symetric(Z):\n",
        "    return np.asarray(Z + Z.T - np.diag(Z.diagonal())).view(Symetric)\n",
        "\n",
        "S = symetric(np.random.randint(0,10,(5,5)))\n",
        "S[2,3] = 42\n",
        "print(S)"
      ]
    },
    {
      "cell_type": "markdown",
      "metadata": {
        "id": "mjg-I310gaFd"
      },
      "source": [
        "#### 86. Consider a set of p matrices wich shape (n,n) and a set of p vectors with shape (n,1). How to compute the sum of of the p matrix products at once? (result has shape (n,1)) (★★★) \n",
        "(**hint**: np.tensordot)"
      ]
    },
    {
      "cell_type": "code",
      "execution_count": null,
      "metadata": {
        "id": "cq5XPztngaFd",
        "colab": {
          "base_uri": "https://localhost:8080/"
        },
        "outputId": "a9c04773-2622-4120-dfc2-a507fbcf8394"
      },
      "outputs": [
        {
          "output_type": "stream",
          "name": "stdout",
          "text": [
            "[[200.]\n",
            " [200.]\n",
            " [200.]\n",
            " [200.]\n",
            " [200.]\n",
            " [200.]\n",
            " [200.]\n",
            " [200.]\n",
            " [200.]\n",
            " [200.]\n",
            " [200.]\n",
            " [200.]\n",
            " [200.]\n",
            " [200.]\n",
            " [200.]\n",
            " [200.]\n",
            " [200.]\n",
            " [200.]\n",
            " [200.]\n",
            " [200.]]\n"
          ]
        }
      ],
      "source": [
        "p, n = 10, 20\n",
        "M = np.ones((p,n,n))\n",
        "V = np.ones((p,n,1))\n",
        "S = np.tensordot(M, V, axes=[[0, 2], [0, 1]])\n",
        "print(S)"
      ]
    },
    {
      "cell_type": "markdown",
      "metadata": {
        "id": "AlYLFLXMgaFd"
      },
      "source": [
        "#### 87. Consider a 16x16 array, how to get the block-sum (block size is 4x4)? (★★★) \n",
        "(**hint**: np.add.reduceat)"
      ]
    },
    {
      "cell_type": "code",
      "execution_count": null,
      "metadata": {
        "id": "gjsSz-fpgaFd",
        "colab": {
          "base_uri": "https://localhost:8080/"
        },
        "outputId": "87eb891e-b392-4486-86b4-e50234077d21"
      },
      "outputs": [
        {
          "output_type": "stream",
          "name": "stdout",
          "text": [
            "[[16. 16. 16. 16.]\n",
            " [16. 16. 16. 16.]\n",
            " [16. 16. 16. 16.]\n",
            " [16. 16. 16. 16.]]\n"
          ]
        }
      ],
      "source": [
        "\n",
        "Z = np.ones((16,16))\n",
        "k = 4\n",
        "S = np.add.reduceat(np.add.reduceat(Z, np.arange(0, Z.shape[0], k), axis=0),\n",
        "                                       np.arange(0, Z.shape[1], k), axis=1)\n",
        "print(S)"
      ]
    },
    {
      "cell_type": "markdown",
      "metadata": {
        "id": "VBWDu5i6gaFd"
      },
      "source": [
        "#### 88. How to implement the Game of Life using numpy arrays? (★★★)"
      ]
    },
    {
      "cell_type": "code",
      "execution_count": null,
      "metadata": {
        "id": "cU6WPYelgaFd",
        "colab": {
          "base_uri": "https://localhost:8080/"
        },
        "outputId": "c65ee071-af22-46bd-cc46-c06f65c8d221"
      },
      "outputs": [
        {
          "output_type": "stream",
          "name": "stdout",
          "text": [
            "[[0 0 0 ... 0 0 0]\n",
            " [0 0 0 ... 0 0 0]\n",
            " [0 0 0 ... 0 0 0]\n",
            " ...\n",
            " [0 0 0 ... 0 0 0]\n",
            " [0 0 0 ... 0 0 0]\n",
            " [0 0 0 ... 0 0 0]]\n"
          ]
        }
      ],
      "source": [
        "\n",
        "def iterate(Z):\n",
        "    # Count neighbours\n",
        "    N = (Z[0:-2,0:-2] + Z[0:-2,1:-1] + Z[0:-2,2:] +\n",
        "         Z[1:-1,0:-2]                + Z[1:-1,2:] +\n",
        "         Z[2:  ,0:-2] + Z[2:  ,1:-1] + Z[2:  ,2:])\n",
        "\n",
        "    # Apply rules\n",
        "    birth = (N==3) & (Z[1:-1,1:-1]==0)\n",
        "    survive = ((N==2) | (N==3)) & (Z[1:-1,1:-1]==1)\n",
        "    Z[...] = 0\n",
        "    Z[1:-1,1:-1][birth | survive] = 1\n",
        "    return Z\n",
        "\n",
        "Z = np.random.randint(0,2,(50,50))\n",
        "for i in range(100): Z = iterate(Z)\n",
        "print(Z)"
      ]
    },
    {
      "cell_type": "markdown",
      "metadata": {
        "id": "hSOSSLPFgaFd"
      },
      "source": [
        "#### 89. How to get the n largest values of an array (★★★) \n",
        "(**hint**: np.argsort | np.argpartition)"
      ]
    },
    {
      "cell_type": "code",
      "execution_count": null,
      "metadata": {
        "id": "ajM0rjrdgaFe",
        "colab": {
          "base_uri": "https://localhost:8080/"
        },
        "outputId": "150f109c-9970-4219-9c27-20776b477462"
      },
      "outputs": [
        {
          "output_type": "stream",
          "name": "stdout",
          "text": [
            "[9995 9996 9997 9998 9999]\n",
            "[9999 9998 9997 9996 9995]\n"
          ]
        }
      ],
      "source": [
        "Z = np.arange(10000)\n",
        "np.random.shuffle(Z)\n",
        "n = 5\n",
        "\n",
        "# Slow\n",
        "print (Z[np.argsort(Z)[-n:]])\n",
        "\n",
        "# Fast\n",
        "print (Z[np.argpartition(-Z,n)[:n]])"
      ]
    },
    {
      "cell_type": "markdown",
      "metadata": {
        "id": "KWLxdFLdgaFe"
      },
      "source": [
        "#### 90. Given an arbitrary number of vectors, build the cartesian product (every combinations of every item) (★★★) \n",
        "(**hint**: np.indices)"
      ]
    },
    {
      "cell_type": "code",
      "execution_count": null,
      "metadata": {
        "scrolled": true,
        "id": "I-oGNfnPgaFe",
        "colab": {
          "base_uri": "https://localhost:8080/"
        },
        "outputId": "f01b379e-1c8a-46e5-e58d-5666fbe1da69"
      },
      "outputs": [
        {
          "output_type": "stream",
          "name": "stdout",
          "text": [
            "[[1 4 6]\n",
            " [1 4 7]\n",
            " [1 5 6]\n",
            " [1 5 7]\n",
            " [2 4 6]\n",
            " [2 4 7]\n",
            " [2 5 6]\n",
            " [2 5 7]\n",
            " [3 4 6]\n",
            " [3 4 7]\n",
            " [3 5 6]\n",
            " [3 5 7]]\n"
          ]
        }
      ],
      "source": [
        "\n",
        "def cartesian(arrays):\n",
        "    arrays = [np.asarray(a) for a in arrays]\n",
        "    shape = (len(x) for x in arrays)\n",
        "\n",
        "    ix = np.indices(shape, dtype=int)\n",
        "    ix = ix.reshape(len(arrays), -1).T\n",
        "\n",
        "    for n, arr in enumerate(arrays):\n",
        "        ix[:, n] = arrays[n][ix[:, n]]\n",
        "\n",
        "    return ix\n",
        "\n",
        "print (cartesian(([1, 2, 3], [4, 5], [6, 7])))"
      ]
    },
    {
      "cell_type": "markdown",
      "metadata": {
        "id": "UGZq6ZzjgaFe"
      },
      "source": [
        "#### 91. How to create a record array from a regular array? (★★★) \n",
        "(**hint**: np.core.records.fromarrays)"
      ]
    },
    {
      "cell_type": "code",
      "execution_count": null,
      "metadata": {
        "id": "379CtOEYgaFe",
        "colab": {
          "base_uri": "https://localhost:8080/"
        },
        "outputId": "7df0e289-f614-4811-d381-33d5bd0b9c09"
      },
      "outputs": [
        {
          "output_type": "stream",
          "name": "stdout",
          "text": [
            "[(b'Hello', 2.5, 3) (b'World', 3.6, 2)]\n"
          ]
        }
      ],
      "source": [
        "Z = np.array([(\"Hello\", 2.5, 3),\n",
        "              (\"World\", 3.6, 2)])\n",
        "R = np.core.records.fromarrays(Z.T, \n",
        "                               names='col1, col2, col3',\n",
        "                               formats = 'S8, f8, i8')\n",
        "print(R)"
      ]
    },
    {
      "cell_type": "markdown",
      "metadata": {
        "id": "CjedbAB5gaFe"
      },
      "source": [
        "#### 92. Consider a large vector Z, compute Z to the power of 3 using 3 different methods (★★★) \n",
        "(**hint**: np.power, \\*, np.einsum)"
      ]
    },
    {
      "cell_type": "code",
      "execution_count": 97,
      "metadata": {
        "id": "gmslBikagaFf",
        "colab": {
          "base_uri": "https://localhost:8080/"
        },
        "outputId": "ddc04aa3-5edc-4ed3-f2e7-2712fa417ee1"
      },
      "outputs": [
        {
          "output_type": "stream",
          "name": "stdout",
          "text": [
            "1 loop, best of 5: 3.77 s per loop\n",
            "10 loops, best of 5: 147 ms per loop\n",
            "10 loops, best of 5: 131 ms per loop\n"
          ]
        }
      ],
      "source": [
        "\n",
        "x = np.random.rand(int(5e7))\n",
        "\n",
        "%timeit np.power(x,3)\n",
        "%timeit x*x*x\n",
        "%timeit np.einsum('i,i,i->i',x,x,x)"
      ]
    },
    {
      "cell_type": "markdown",
      "metadata": {
        "id": "1gGLhkypgaFf"
      },
      "source": [
        "#### 93. Consider two arrays A and B of shape (8,3) and (2,2). How to find rows of A that contain elements of each row of B regardless of the order of the elements in B? (★★★) \n",
        "(**hint**: np.where)"
      ]
    },
    {
      "cell_type": "code",
      "execution_count": null,
      "metadata": {
        "id": "uav1Y5sigaFf",
        "colab": {
          "base_uri": "https://localhost:8080/"
        },
        "outputId": "eaf95958-0553-4529-feef-a6b9ba74e0ba"
      },
      "outputs": [
        {
          "output_type": "stream",
          "name": "stdout",
          "text": [
            "[2 3 4 5 7]\n"
          ]
        }
      ],
      "source": [
        "A = np.random.randint(0,5,(8,3))\n",
        "B = np.random.randint(0,5,(2,2))\n",
        "\n",
        "C = (A[..., np.newaxis, np.newaxis] == B)\n",
        "rows = np.where(C.any((3,1)).all(1))[0]\n",
        "print(rows)"
      ]
    },
    {
      "cell_type": "markdown",
      "metadata": {
        "id": "30USmNfMgaFf"
      },
      "source": [
        "#### 94. Considering a 10x3 matrix, extract rows with unequal values (e.g. \\[2,2,3\\]) (★★★)"
      ]
    },
    {
      "cell_type": "code",
      "source": [
        "Z = np.random.randint(0,5,(10,3))\n",
        "print(Z)\n",
        "# solution for arrays of all dtypes (including string arrays and record arrays)\n",
        "E = np.all(Z[:,1:] == Z[:,:-1], axis=1)\n",
        "U = Z[~E]\n",
        "print(U)\n",
        "# soluiton for numerical arrays only, will work for any number of columns in Z\n",
        "U = Z[Z.max(axis=1) != Z.min(axis=1),:]\n",
        "print(U)"
      ],
      "metadata": {
        "colab": {
          "base_uri": "https://localhost:8080/"
        },
        "id": "SquYlZJ65LbH",
        "outputId": "e8f556fb-8e05-4fa6-cf5f-2914647604ef"
      },
      "execution_count": null,
      "outputs": [
        {
          "output_type": "stream",
          "name": "stdout",
          "text": [
            "[[2 2 0]\n",
            " [1 1 2]\n",
            " [2 0 0]\n",
            " [3 4 1]\n",
            " [1 3 3]\n",
            " [0 4 1]\n",
            " [1 0 0]\n",
            " [4 4 2]\n",
            " [3 1 4]\n",
            " [1 2 3]]\n",
            "[[2 2 0]\n",
            " [1 1 2]\n",
            " [2 0 0]\n",
            " [3 4 1]\n",
            " [1 3 3]\n",
            " [0 4 1]\n",
            " [1 0 0]\n",
            " [4 4 2]\n",
            " [3 1 4]\n",
            " [1 2 3]]\n",
            "[[2 2 0]\n",
            " [1 1 2]\n",
            " [2 0 0]\n",
            " [3 4 1]\n",
            " [1 3 3]\n",
            " [0 4 1]\n",
            " [1 0 0]\n",
            " [4 4 2]\n",
            " [3 1 4]\n",
            " [1 2 3]]\n"
          ]
        }
      ]
    },
    {
      "cell_type": "markdown",
      "metadata": {
        "id": "BqSCa6iPgaFf"
      },
      "source": [
        "#### 95. Convert a vector of ints into a matrix binary representation (★★★) \n",
        "(**hint**: np.unpackbits)"
      ]
    },
    {
      "cell_type": "code",
      "source": [
        "I = np.array([0, 1, 2, 3, 15, 16, 32, 64, 128])\n",
        "B = ((I.reshape(-1,1) & (2**np.arange(8))) != 0).astype(int)\n",
        "print(B[:,::-1])\n",
        "\n",
        "I = np.array([0, 1, 2, 3, 15, 16, 32, 64, 128], dtype=np.uint8)\n",
        "print(np.unpackbits(I[:, np.newaxis], axis=1))"
      ],
      "metadata": {
        "colab": {
          "base_uri": "https://localhost:8080/"
        },
        "id": "U2bpb6vu5MCK",
        "outputId": "989a077b-b836-4ecf-d9a1-8fbb7f27558f"
      },
      "execution_count": 99,
      "outputs": [
        {
          "output_type": "stream",
          "name": "stdout",
          "text": [
            "[[0 0 0 0 0 0 0 0]\n",
            " [0 0 0 0 0 0 0 1]\n",
            " [0 0 0 0 0 0 1 0]\n",
            " [0 0 0 0 0 0 1 1]\n",
            " [0 0 0 0 1 1 1 1]\n",
            " [0 0 0 1 0 0 0 0]\n",
            " [0 0 1 0 0 0 0 0]\n",
            " [0 1 0 0 0 0 0 0]\n",
            " [1 0 0 0 0 0 0 0]]\n",
            "[[0 0 0 0 0 0 0 0]\n",
            " [0 0 0 0 0 0 0 1]\n",
            " [0 0 0 0 0 0 1 0]\n",
            " [0 0 0 0 0 0 1 1]\n",
            " [0 0 0 0 1 1 1 1]\n",
            " [0 0 0 1 0 0 0 0]\n",
            " [0 0 1 0 0 0 0 0]\n",
            " [0 1 0 0 0 0 0 0]\n",
            " [1 0 0 0 0 0 0 0]]\n"
          ]
        }
      ]
    },
    {
      "cell_type": "markdown",
      "metadata": {
        "id": "wt3J6OWQgaFg"
      },
      "source": [
        "#### 96. Given a two dimensional array, how to extract unique rows? (★★★) \n",
        "(**hint**: np.ascontiguousarray)"
      ]
    },
    {
      "cell_type": "code",
      "execution_count": null,
      "metadata": {
        "id": "qka-jEbagaFg",
        "colab": {
          "base_uri": "https://localhost:8080/"
        },
        "outputId": "4563f025-b377-4cb9-df8b-2301822a8708"
      },
      "outputs": [
        {
          "output_type": "stream",
          "name": "stdout",
          "text": [
            "[[0 1 1]\n",
            " [1 0 0]\n",
            " [1 1 0]\n",
            " [1 1 1]]\n"
          ]
        }
      ],
      "source": [
        "Z = np.random.randint(0,2,(6,3))\n",
        "T = np.ascontiguousarray(Z).view(np.dtype((np.void, Z.dtype.itemsize * Z.shape[1])))\n",
        "_, idx = np.unique(T, return_index=True)\n",
        "uZ = Z[idx]\n",
        "print(uZ)"
      ]
    },
    {
      "cell_type": "markdown",
      "metadata": {
        "id": "Ob2zmLvFgaFg"
      },
      "source": [
        "#### 97. Considering 2 vectors A & B, write the einsum equivalent of inner, outer, sum, and mul function (★★★) \n",
        "(**hint**: np.einsum)"
      ]
    },
    {
      "cell_type": "code",
      "execution_count": null,
      "metadata": {
        "id": "BxmJnsy9gaFg",
        "colab": {
          "base_uri": "https://localhost:8080/"
        },
        "outputId": "e4007c98-b378-42e2-f4d9-22f6b0dafaff"
      },
      "outputs": [
        {
          "output_type": "execute_result",
          "data": {
            "text/plain": [
              "array([[0.30617876, 0.15449494, 0.3096075 , 0.76851187, 0.37497508,\n",
              "        0.45958497, 0.11260539, 0.66726   , 0.10874384, 0.14874089],\n",
              "       [0.30879034, 0.15581272, 0.31224832, 0.77506695, 0.37817346,\n",
              "        0.46350504, 0.11356587, 0.67295144, 0.10967138, 0.15000959],\n",
              "       [0.10254712, 0.05174432, 0.1036955 , 0.25739435, 0.12558878,\n",
              "        0.1539268 , 0.03771444, 0.2234825 , 0.0364211 , 0.04981714],\n",
              "       [0.01057343, 0.00533525, 0.01069184, 0.02653942, 0.01294921,\n",
              "        0.01587108, 0.00388866, 0.02304283, 0.00375531, 0.00513655],\n",
              "       [0.24941012, 0.12585002, 0.25220314, 0.626022  , 0.30545091,\n",
              "        0.37437327, 0.09172721, 0.54354325, 0.08858164, 0.12116283],\n",
              "       [0.18999474, 0.09586957, 0.19212239, 0.47688878, 0.23268529,\n",
              "        0.28518872, 0.06987563, 0.41405841, 0.0674794 , 0.09229898],\n",
              "       [0.27771791, 0.14013386, 0.28082793, 0.69707483, 0.34011927,\n",
              "        0.41686424, 0.10213815, 0.60523483, 0.09863556, 0.13491468],\n",
              "       [0.13410294, 0.06766709, 0.13560469, 0.33659978, 0.16423498,\n",
              "        0.20129318, 0.04931993, 0.29225257, 0.04762861, 0.06514688],\n",
              "       [0.18531081, 0.0935061 , 0.18738601, 0.46513205, 0.22694891,\n",
              "        0.27815797, 0.06815298, 0.40385064, 0.06581583, 0.09002354],\n",
              "       [0.29903272, 0.15088912, 0.30238143, 0.75057523, 0.36622337,\n",
              "        0.44885851, 0.10997724, 0.65168652, 0.10620582, 0.14526936]])"
            ]
          },
          "metadata": {},
          "execution_count": 52
        }
      ],
      "source": [
        "\n",
        "A = np.random.uniform(0,1,10)\n",
        "B = np.random.uniform(0,1,10)\n",
        "\n",
        "np.einsum('i->', A)       # np.sum(A)\n",
        "np.einsum('i,i->i', A, B) # A * B\n",
        "np.einsum('i,i', A, B)    # np.inner(A, B)\n",
        "np.einsum('i,j->ij', A, B)    # np.outer(A, B)"
      ]
    },
    {
      "cell_type": "markdown",
      "metadata": {
        "id": "XZdxe1zqgaFg"
      },
      "source": [
        "#### 98. Considering a path described by two vectors (X,Y), how to sample it using equidistant samples (★★★)? \n",
        "(**hint**: np.cumsum, np.interp)"
      ]
    },
    {
      "cell_type": "code",
      "execution_count": null,
      "metadata": {
        "id": "YJ-tD5iAgaFg",
        "colab": {
          "base_uri": "https://localhost:8080/"
        },
        "outputId": "07762a78-cdcc-40b8-a42d-0d83906df687"
      },
      "outputs": [
        {
          "output_type": "execute_result",
          "data": {
            "text/plain": [
              "(array([  0.        ,   0.09950042,   0.19601332,   0.28660095,\n",
              "          0.3684244 ,   0.43879128,   0.49520137,   0.53538953,\n",
              "          0.55736537,   0.55944897,   0.54030231,   0.49895573,\n",
              "          0.43482931,   0.34774848,   0.237954  ,   0.1061058 ,\n",
              "         -0.04671924,  -0.21903564,  -0.40896377,  -0.61425018,\n",
              "         -0.83229367,  -1.06017682,  -1.29470246,  -1.53243485,\n",
              "         -1.76974492,  -2.00285904,  -2.22791076,  -2.44099478,\n",
              "         -2.63822255,  -2.81577868,  -2.96997749,  -3.09731897,\n",
              "         -3.19454328,  -3.25868324,  -3.28711385,  -3.27759841,\n",
              "         -3.2283303 ,  -3.13797012,  -3.00567731,  -2.83113599,\n",
              "         -2.61457448,  -2.35677818,  -2.05909545,  -1.72343644,\n",
              "         -1.35226463,  -0.9485811 ,  -0.51590162,  -0.05822672,\n",
              "          0.41999512,   0.91391061,   1.41831093,   1.92768649,\n",
              "          2.43628669,   2.93818398,   3.42734153,   3.89768376,\n",
              "          4.34316892,   4.75786287,   5.1360132 ,   5.47212274,\n",
              "          5.76102172,   5.99793747,   6.178561  ,   6.29910941,\n",
              "          6.35638348,   6.34781957,   6.27153511,   6.12636709,\n",
              "          5.91190293,   5.62850319,   5.27731578,   4.86028133,\n",
              "          4.38012946,   3.84036588,   3.24525022,   2.59976488,\n",
              "          1.9095748 ,   1.18097874,   0.42085228,  -0.36341679,\n",
              "         -1.16400027,  -1.97270765,  -2.78106986,  -3.58042781,\n",
              "         -4.36202469,  -5.11710117,  -5.83699241,  -6.51322582,\n",
              "         -7.13761852,  -7.70237336,  -8.20017236,  -8.62426658,\n",
              "         -8.96856132,  -9.22769553,  -9.3971146 ,  -9.47313548,\n",
              "         -9.45300342,  -9.33493933,  -9.11817747,  -8.80299241,\n",
              "         -8.39071529,  -7.88373862,  -7.28550965,  -6.6005121 ,\n",
              "         -5.83423628,  -4.99313774,  -4.08458482,  -3.11679531,\n",
              "         -2.09876299,  -1.04017448,   0.04868268,   1.1570199 ,\n",
              "          2.27365447,   3.38712238,   4.48579588,   5.55800473,\n",
              "          6.59215971,   7.57687716,   8.50110325,   9.35423652,\n",
              "         10.1262475 ,  10.80779395,  11.39033046,  11.8662112 ,\n",
              "         12.22878455,  12.47247849,  12.59287578,  12.58677787,\n",
              "         12.45225684,  12.18869449,  11.79680816,  11.27866268,\n",
              "         10.63766824,   9.878564  ,   9.00738732,   8.03142895,\n",
              "          6.9591743 ,   5.80023126,   4.56524532,   3.26580248,\n",
              "          1.91432105,   0.52393323,  -0.89164247,  -2.31823644,\n",
              "         -3.74136993,  -5.14640187,  -6.51867941,  -7.84369048,\n",
              "         -9.10721675, -10.29548549, -11.39531869, -12.39427773,\n",
              "        -13.28080214, -14.04434094, -14.67547492, -15.16602867,\n",
              "        -15.50917095, -15.69950221, -15.73312822, -15.60771894,\n",
              "        -15.32255169, -14.87853808, -14.27823434, -13.52583451,\n",
              "        -12.62714655, -11.58955145, -10.42194539,  -9.13466558,\n",
              "         -7.73940027,  -6.24908366,  -4.67777675,  -3.04053512,\n",
              "         -1.35326495,   0.36743138,   2.10441864,   3.84019936,\n",
              "          5.55709009,   7.23740149,   8.86362041,  10.41859212,\n",
              "         11.88570075,  13.24904611,  14.49361496,  15.6054449 ,\n",
              "         16.57177917,  17.38121053,  18.02381279,  18.49125831,\n",
              "         18.7769203 ,  18.87595858,  18.78538775,  18.50412697,\n",
              "         18.03303066,  17.3748994 ,  16.53447108,  15.51839191,\n",
              "         14.33516747,  12.99509423,  11.51017187,   9.89399732,\n",
              "          8.16164124,   6.32950824,   4.41518203,   2.43725688,\n",
              "          0.4151572 ,  -1.63105313,  -3.6808699 ,  -5.713554  ,\n",
              "         -7.70834118,  -9.64465412, -11.50231446, -13.26175272,\n",
              "        -14.9042139 , -16.41195663, -17.76844373, -18.95852214,\n",
              "        -19.96859034, -20.78675129, -21.40294938, -21.80908968,\n",
              "        -21.99913818, -21.96920183, -21.71758737, -21.24483813,\n",
              "        -20.55374833, -19.6493544 , -18.53890336, -17.23179826,\n",
              "        -15.73952118, -14.07553421, -12.25515947, -10.29543901,\n",
              "         -8.21497601,  -6.03375864,  -3.77296837,  -1.45477441,\n",
              "          0.89788356,   3.2615224 ,   5.6123499 ,   7.92650424,\n",
              "         10.18029618,  12.35045135,  14.41435043,  16.35026444,\n",
              "         18.13758293,  19.7570326 ,  21.19088398,  22.42314406,\n",
              "         23.43973275,  24.2286412 ,  24.7800703 ,  25.08654775,\n",
              "         25.14302233,  24.94693422,  24.49826054,  23.79953536,\n",
              "         22.85584389,  21.67479057,  20.26644137,  18.64324051,\n",
              "         16.81990238,  14.81327959,  12.64220817,  10.32733155,\n",
              "          7.89090473,   5.35658069,   2.74918094,   0.09445254,\n",
              "         -2.58118617,  -5.25090838,  -7.88774784, -10.46487118,\n",
              "        -12.95585091, -15.33493623, -17.57731893, -19.65939164,\n",
              "        -21.55899571, -23.25565617, -24.7308012 , -25.96796395,\n",
              "        -26.95296426, -27.67406854, -28.12212595, -28.2906792 ,\n",
              "        -28.17604893, -27.77739036, -27.09672162, -26.13892326,\n",
              "        -24.91170863, -23.42556536, -21.69366836, -19.73176483,\n",
              "        -17.55803252, -15.19291234, -12.6589169 ,  -9.98041672,\n",
              "         -7.18340625,  -4.29525175,  -1.34442375,   1.63978364,\n",
              "          4.6275435 ,   7.58879418,  10.49354182,  13.31216405,\n",
              "         16.01571198,  18.57620727,  20.96693136,  23.16270375,\n",
              "         25.14014653,  26.87793233,  28.35701309,  29.56082725,\n",
              "         30.47548299,  31.08991568,  31.39601771]),\n",
              " array([ 0.00000000e+00,  9.98334166e-03,  3.97338662e-02,  8.86560620e-02,\n",
              "         1.55767337e-01,  2.39712769e-01,  3.38785484e-01,  4.50952381e-01,\n",
              "         5.73884873e-01,  7.04994219e-01,  8.41470985e-01,  9.80328096e-01,\n",
              "         1.11844690e+00,  1.25262564e+00,  1.37962962e+00,  1.49624248e+00,\n",
              "         1.59931776e+00,  1.68583018e+00,  1.75292574e+00,  1.79797017e+00,\n",
              "         1.81859485e+00,  1.81273967e+00,  1.77869209e+00,  1.71512199e+00,\n",
              "         1.62111163e+00,  1.49618036e+00,  1.34030357e+00,  1.15392568e+00,\n",
              "         9.37966820e-01,  6.93823055e-01,  4.23360024e-01,  1.28900054e-01,\n",
              "        -1.86797259e-01, -5.20560791e-01, -8.68839747e-01, -1.22774130e+00,\n",
              "        -1.59307360e+00, -1.96039372e+00, -2.32505999e+00, -2.68228802e+00,\n",
              "        -3.02720998e+00, -3.35493616e+00, -3.66061824e+00, -3.93951353e+00,\n",
              "        -4.18704913e+00, -4.39888553e+00, -4.57097862e+00, -4.69963931e+00,\n",
              "        -4.78159012e+00, -4.81401780e+00, -4.79462137e+00, -4.72165488e+00,\n",
              "        -4.59396421e+00, -4.41101744e+00, -4.17292823e+00, -3.88047179e+00,\n",
              "        -3.53509317e+00, -3.13890759e+00, -2.69469264e+00, -2.20587232e+00,\n",
              "        -1.67649299e+00, -1.11119128e+00, -5.15154297e-01,  1.05927573e-01,\n",
              "         7.45914911e-01,  1.39827992e+00,  2.05617300e+00,  2.71249447e+00,\n",
              "         3.35997079e+00,  3.99123437e+00,  4.59890619e+00,  5.17568018e+00,\n",
              "         5.71440862e+00,  6.20818733e+00,  6.65043991e+00,  7.03499983e+00,\n",
              "         7.35618951e+00,  7.60889540e+00,  7.78863809e+00,  7.89163660e+00,\n",
              "         7.91486597e+00,  7.85610747e+00,  7.71399056e+00,  7.48802622e+00,\n",
              "         7.17863083e+00,  6.78714046e+00,  6.31581504e+00,  5.76783230e+00,\n",
              "         5.14727130e+00,  4.45908562e+00,  3.70906637e+00,  2.90379510e+00,\n",
              "         2.05058721e+00,  1.15742614e+00,  2.32888999e-01, -7.13935644e-01,\n",
              "        -1.67353710e+00, -2.63607808e+00, -3.59149547e+00, -4.52960535e+00,\n",
              "        -5.44021111e+00, -6.31321355e+00, -7.13872181e+00, -7.90716384e+00,\n",
              "        -8.60939528e+00, -9.23680548e+00, -9.78141947e+00, -1.02359947e+01,\n",
              "        -1.05941113e+01, -1.08502552e+01, -1.09998923e+01, -1.10395337e+01,\n",
              "        -1.09667906e+01, -1.07804175e+01, -1.04803452e+01, -1.00677000e+01,\n",
              "        -9.54481170e+00, -8.91520793e+00, -8.18359600e+00, -7.35583164e+00,\n",
              "        -6.43887502e+00, -5.44073432e+00, -4.37039724e+00, -3.23775103e+00,\n",
              "        -2.05349178e+00, -8.29023717e-01,  4.23650395e-01,  1.69204693e+00,\n",
              "         2.96332576e+00,  4.22442026e+00,  5.46217148e+00,  6.66346518e+00,\n",
              "         7.81537039e+00,  8.90527784e+00,  9.92103693e+00,  1.08510898e+01,\n",
              "         1.16846007e+01,  1.24115800e+01,  1.30230002e+01,  1.35109043e+01,\n",
              "         1.38685030e+01,  1.40902624e+01,  1.41719785e+01,  1.41108391e+01,\n",
              "         1.39054720e+01,  1.35559783e+01,  1.30639511e+01,  1.24324784e+01,\n",
              "         1.16661306e+01,  1.07709321e+01,  9.75431760e+00,  8.62507273e+00,\n",
              "         7.39326007e+00,  6.07013077e+00,  4.66802269e+00,  3.20024597e+00,\n",
              "         1.68095698e+00,  1.25021985e-01, -1.45212823e+00, -3.03465144e+00,\n",
              "        -4.60645307e+00, -6.15134982e+00, -7.65323618e+00, -9.09625202e+00,\n",
              "        -1.04649496e+01, -1.17444581e+01, -1.29206445e+01, -1.39802677e+01,\n",
              "        -1.49111262e+01, -1.57021958e+01, -1.63437574e+01, -1.68275116e+01,\n",
              "        -1.71466811e+01, -1.72960977e+01, -1.72722732e+01, -1.70734551e+01,\n",
              "        -1.66996632e+01, -1.61527094e+01, -1.54361988e+01, -1.45555123e+01,\n",
              "        -1.35177704e+01, -1.23317792e+01, -1.10079574e+01, -9.55824719e+00,\n",
              "        -7.99600745e+00, -6.33589144e+00, -4.59371011e+00, -2.78628178e+00,\n",
              "        -9.31270049e-01,  9.52988800e-01,  2.84766698e+00,  4.73363337e+00,\n",
              "         6.59164663e+00,  8.40255146e+00,  1.01474758e+01,  1.18080275e+01,\n",
              "         1.33664870e+01,  1.48059963e+01,  1.61107400e+01,  1.72661176e+01,\n",
              "         1.82589050e+01,  1.90774035e+01,  1.97115745e+01,  2.01531580e+01,\n",
              "         2.03957752e+01,  2.04350108e+01,  2.02684779e+01,  1.98958614e+01,\n",
              "         1.93189409e+01,  1.85415923e+01,  1.75697684e+01,  1.64114568e+01,\n",
              "         1.50766179e+01,  1.35771013e+01,  1.19265421e+01,  1.01402386e+01,\n",
              "         8.23501062e+00,  6.22904253e+00,  4.14170953e+00,  1.99339091e+00,\n",
              "        -1.94728804e-01, -2.40086876e+00, -4.60286854e+00, -6.77841078e+00,\n",
              "        -8.90524730e+00, -1.09614265e+01, -1.29255198e+01, -1.47768443e+01,\n",
              "        -1.64956804e+01, -1.80634807e+01, -1.94630693e+01, -2.06788282e+01,\n",
              "        -2.16968700e+01, -2.25051940e+01, -2.30938241e+01, -2.34549277e+01,\n",
              "        -2.35829134e+01, -2.34745068e+01, -2.31288030e+01, -2.25472954e+01,\n",
              "        -2.17338807e+01, -2.06948388e+01, -1.94387886e+01, -1.79766196e+01,\n",
              "        -1.63213996e+01, -1.44882595e+01, -1.24942561e+01, -1.03582146e+01,\n",
              "        -8.10055113e+00, -5.74307808e+00, -3.30879375e+00, -8.21658021e-01,\n",
              "         1.69364343e+00,  4.21194409e+00,  6.70784844e+00,  9.15598803e+00,\n",
              "         1.15312792e+01,  1.38091801e+01,  1.59659436e+01,  1.79788649e+01,\n",
              "         1.98265197e+01,  2.14889913e+01,  2.29480843e+01,  2.41875221e+01,\n",
              "         2.51931265e+01,  2.59529775e+01,  2.64575510e+01,  2.66998329e+01,\n",
              "         2.66754096e+01,  2.63825314e+01,  2.58221501e+01,  2.49979293e+01,\n",
              "         2.39162273e+01,  2.25860517e+01,  2.10189881e+01,  1.92291009e+01,\n",
              "         1.72328089e+01,  1.50487360e+01,  1.26975380e+01,  1.02017081e+01,\n",
              "         7.58536207e+00,  4.87400556e+00,  2.09428557e+00, -7.26271386e-01,\n",
              "        -3.55953178e+00, -6.37703575e+00, -9.15028291e+00, -1.18510207e+01,\n",
              "        -1.44515319e+01, -1.69249191e+01, -1.92453826e+01, -2.13884889e+01,\n",
              "        -2.33314272e+01, -2.50532516e+01, -2.65351055e+01, -2.77604265e+01,\n",
              "        -2.87151297e+01, -2.93877664e+01, -2.97696578e+01, -2.98550014e+01,\n",
              "        -2.96409487e+01, -2.91276536e+01, -2.83182906e+01, -2.72190427e+01,\n",
              "        -2.58390590e+01, -2.41903808e+01, -2.22878395e+01, -2.01489244e+01,\n",
              "        -1.77936234e+01, -1.52442367e+01, -1.25251670e+01, -9.66268557e+00,\n",
              "        -6.68467926e+00, -3.62037882e+00, -5.00072086e-01]))"
            ]
          },
          "metadata": {},
          "execution_count": 54
        }
      ],
      "source": [
        "phi = np.arange(0, 10*np.pi, 0.1)\n",
        "a = 1\n",
        "x = a*phi*np.cos(phi)\n",
        "y = a*phi*np.sin(phi)\n",
        "\n",
        "dr = (np.diff(x)**2 + np.diff(y)**2)**.5 # segment lengths\n",
        "r = np.zeros_like(x)\n",
        "r[1:] = np.cumsum(dr)                # integrate path\n",
        "r_int = np.linspace(0, r.max(), 200) # regular spaced path\n",
        "x_int = np.interp(r_int, r, x)       # integrate path\n",
        "y_int = np.interp(r_int, r, y)\n",
        "\n",
        "x,y"
      ]
    },
    {
      "cell_type": "markdown",
      "metadata": {
        "id": "1NMVnfgCgaFh"
      },
      "source": [
        "#### 99. Given an integer n and a 2D array X, select from X the rows which can be interpreted as draws from a multinomial distribution with n degrees, i.e., the rows which only contain integers and which sum to n. (★★★) \n",
        "(**hint**: np.logical\\_and.reduce, np.mod)"
      ]
    },
    {
      "cell_type": "code",
      "execution_count": null,
      "metadata": {
        "id": "5is4s2a7gaFh",
        "colab": {
          "base_uri": "https://localhost:8080/"
        },
        "outputId": "cdd4aeaa-d773-4de1-9c74-4d4d981368e8"
      },
      "outputs": [
        {
          "output_type": "stream",
          "name": "stdout",
          "text": [
            "[[2. 0. 1. 1.]]\n"
          ]
        }
      ],
      "source": [
        "X = np.asarray([[1.0, 0.0, 3.0, 8.0],\n",
        "                [2.0, 0.0, 1.0, 1.0],\n",
        "                [1.5, 2.5, 1.0, 0.0]])\n",
        "n = 4\n",
        "M = np.logical_and.reduce(np.mod(X, 1) == 0, axis=-1)\n",
        "M &= (X.sum(axis=-1) == n)\n",
        "print(X[M])"
      ]
    },
    {
      "cell_type": "markdown",
      "metadata": {
        "id": "O9wxOl61gaFh"
      },
      "source": [
        "#### 100. Compute bootstrapped 95% confidence intervals for the mean of a 1D array X (i.e., resample the elements of an array with replacement N times, compute the mean of each sample, and then compute percentiles over the means). (★★★) \n",
        "(**hint**: np.percentile)"
      ]
    },
    {
      "cell_type": "code",
      "source": [
        "X = np.random.randn(100) # random 1D array\n",
        "N = 1000 # number of bootstrap samples\n",
        "idx = np.random.randint(0, X.size, (N, X.size))\n",
        "means = X[idx].mean(axis=1)\n",
        "confint = np.percentile(means, [2.5, 97.5])\n",
        "print(confint)"
      ],
      "metadata": {
        "colab": {
          "base_uri": "https://localhost:8080/"
        },
        "id": "qofIkMfK5XV5",
        "outputId": "e98d50db-68ac-419d-e70d-6e1886506dbd"
      },
      "execution_count": null,
      "outputs": [
        {
          "output_type": "stream",
          "name": "stdout",
          "text": [
            "[-0.29305549  0.06556062]\n"
          ]
        }
      ]
    }
  ]
}